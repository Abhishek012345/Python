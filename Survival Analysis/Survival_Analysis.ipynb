{
 "cells": [
  {
   "cell_type": "code",
   "execution_count": null,
   "metadata": {},
   "outputs": [],
   "source": [
    "\n",
    "import pandas as pd\n",
    "# Loading the the survival un-employment data\n",
    "survival_unemp = pd.read_csv(\"survival_unemployment.csv\")\n",
    "survival_unemp.head()\n",
    "survival_unemp.describe()\n",
    "\n",
    "survival_unemp[\"spell\"].describe()\n",
    "\n",
    "# Spell is referring to time \n",
    "T = survival_unemp.spell\n",
    "\n",
    "# Importing the KaplanMeierFitter model to fit the survival analysis\n",
    "from lifelines import KaplanMeierFitter\n",
    "\n",
    "# Initiating the KaplanMeierFitter model\n",
    "kmf = KaplanMeierFitter()\n",
    "\n",
    "# Fitting KaplanMeierFitter model on Time and Events for death \n",
    "kmf.fit(T,event_observed=survival_unemp.event)\n",
    "\n",
    "# Time-line estimations plot \n",
    "kmf.plot()\n",
    "\n",
    "# Over Multiple groups \n",
    "# For each group, here group is ui\n",
    "survival_unemp.ui.value_counts()\n",
    "\n",
    "# Applying KaplanMeierFitter model on Time and Events for the group \"1\"\n",
    "kmf.fit(T[survival_unemp.ui==1], survival_unemp.event[survival_unemp.ui==1], label='1')\n",
    "ax = kmf.plot()\n",
    "\n",
    "# Applying KaplanMeierFitter model on Time and Events for the group \"0\"\n",
    "kmf.fit(T[survival_unemp.ui==0], survival_unemp.event[survival_unemp.ui==0], label='0')\n",
    "kmf.plot()\n",
    "\n",
    "\n",
    "\n",
    "##############################################################################\n",
    "\n",
    "\n",
    "\n",
    "\n",
    "\n",
    "\n",
    "\n",
    "\n",
    "\n",
    "\n",
    "\n",
    "\n",
    "\n",
    "\n",
    "\n",
    "\n"
   ]
  },
  {
   "cell_type": "code",
   "execution_count": 4,
   "metadata": {},
   "outputs": [
    {
     "data": {
      "text/html": [
       "<div>\n",
       "<style scoped>\n",
       "    .dataframe tbody tr th:only-of-type {\n",
       "        vertical-align: middle;\n",
       "    }\n",
       "\n",
       "    .dataframe tbody tr th {\n",
       "        vertical-align: top;\n",
       "    }\n",
       "\n",
       "    .dataframe thead th {\n",
       "        text-align: right;\n",
       "    }\n",
       "</style>\n",
       "<table border=\"1\" class=\"dataframe\">\n",
       "  <thead>\n",
       "    <tr style=\"text-align: right;\">\n",
       "      <th></th>\n",
       "      <th>spell</th>\n",
       "      <th>event</th>\n",
       "      <th>ui</th>\n",
       "      <th>logwage</th>\n",
       "      <th>age</th>\n",
       "    </tr>\n",
       "  </thead>\n",
       "  <tbody>\n",
       "    <tr>\n",
       "      <th>count</th>\n",
       "      <td>3343.000000</td>\n",
       "      <td>3343.000000</td>\n",
       "      <td>3343.000000</td>\n",
       "      <td>3343.000000</td>\n",
       "      <td>3343.000000</td>\n",
       "    </tr>\n",
       "    <tr>\n",
       "      <th>mean</th>\n",
       "      <td>6.247981</td>\n",
       "      <td>0.320969</td>\n",
       "      <td>0.552797</td>\n",
       "      <td>5.692994</td>\n",
       "      <td>35.443314</td>\n",
       "    </tr>\n",
       "    <tr>\n",
       "      <th>std</th>\n",
       "      <td>5.611271</td>\n",
       "      <td>0.466919</td>\n",
       "      <td>0.497279</td>\n",
       "      <td>0.535659</td>\n",
       "      <td>10.640204</td>\n",
       "    </tr>\n",
       "    <tr>\n",
       "      <th>min</th>\n",
       "      <td>1.000000</td>\n",
       "      <td>0.000000</td>\n",
       "      <td>0.000000</td>\n",
       "      <td>2.708050</td>\n",
       "      <td>20.000000</td>\n",
       "    </tr>\n",
       "    <tr>\n",
       "      <th>25%</th>\n",
       "      <td>2.000000</td>\n",
       "      <td>0.000000</td>\n",
       "      <td>0.000000</td>\n",
       "      <td>5.298320</td>\n",
       "      <td>27.000000</td>\n",
       "    </tr>\n",
       "    <tr>\n",
       "      <th>50%</th>\n",
       "      <td>5.000000</td>\n",
       "      <td>0.000000</td>\n",
       "      <td>1.000000</td>\n",
       "      <td>5.676750</td>\n",
       "      <td>34.000000</td>\n",
       "    </tr>\n",
       "    <tr>\n",
       "      <th>75%</th>\n",
       "      <td>9.000000</td>\n",
       "      <td>1.000000</td>\n",
       "      <td>1.000000</td>\n",
       "      <td>6.052090</td>\n",
       "      <td>43.000000</td>\n",
       "    </tr>\n",
       "    <tr>\n",
       "      <th>max</th>\n",
       "      <td>28.000000</td>\n",
       "      <td>1.000000</td>\n",
       "      <td>1.000000</td>\n",
       "      <td>7.600400</td>\n",
       "      <td>61.000000</td>\n",
       "    </tr>\n",
       "  </tbody>\n",
       "</table>\n",
       "</div>"
      ],
      "text/plain": [
       "             spell        event           ui      logwage          age\n",
       "count  3343.000000  3343.000000  3343.000000  3343.000000  3343.000000\n",
       "mean      6.247981     0.320969     0.552797     5.692994    35.443314\n",
       "std       5.611271     0.466919     0.497279     0.535659    10.640204\n",
       "min       1.000000     0.000000     0.000000     2.708050    20.000000\n",
       "25%       2.000000     0.000000     0.000000     5.298320    27.000000\n",
       "50%       5.000000     0.000000     1.000000     5.676750    34.000000\n",
       "75%       9.000000     1.000000     1.000000     6.052090    43.000000\n",
       "max      28.000000     1.000000     1.000000     7.600400    61.000000"
      ]
     },
     "execution_count": 4,
     "metadata": {},
     "output_type": "execute_result"
    }
   ],
   "source": [
    "import pandas as pd\n",
    "# Loading the the survival un-employment data\n",
    "survival_unemp = pd.read_csv(\"survival_unemployment.csv\")\n",
    "survival_unemp.head()\n",
    "survival_unemp.describe()\n"
   ]
  },
  {
   "cell_type": "code",
   "execution_count": 5,
   "metadata": {},
   "outputs": [
    {
     "data": {
      "text/plain": [
       "count    3343.000000\n",
       "mean        6.247981\n",
       "std         5.611271\n",
       "min         1.000000\n",
       "25%         2.000000\n",
       "50%         5.000000\n",
       "75%         9.000000\n",
       "max        28.000000\n",
       "Name: spell, dtype: float64"
      ]
     },
     "execution_count": 5,
     "metadata": {},
     "output_type": "execute_result"
    }
   ],
   "source": [
    "survival_unemp[\"spell\"].describe()"
   ]
  },
  {
   "cell_type": "code",
   "execution_count": 7,
   "metadata": {},
   "outputs": [
    {
     "data": {
      "text/plain": [
       "0        5\n",
       "1       13\n",
       "2       21\n",
       "3        3\n",
       "4        9\n",
       "5       11\n",
       "6        1\n",
       "7        3\n",
       "8        7\n",
       "9        5\n",
       "10       7\n",
       "11      15\n",
       "12       2\n",
       "13       3\n",
       "14       1\n",
       "15       2\n",
       "16      14\n",
       "17       1\n",
       "18       1\n",
       "19       5\n",
       "20       7\n",
       "21       5\n",
       "22       5\n",
       "23       2\n",
       "24      15\n",
       "25      15\n",
       "26       3\n",
       "27       6\n",
       "28       2\n",
       "29       1\n",
       "        ..\n",
       "3313    13\n",
       "3314     6\n",
       "3315     7\n",
       "3316     2\n",
       "3317     7\n",
       "3318     1\n",
       "3319     2\n",
       "3320     2\n",
       "3321    10\n",
       "3322    11\n",
       "3323     1\n",
       "3324     4\n",
       "3325     2\n",
       "3326     2\n",
       "3327     6\n",
       "3328     3\n",
       "3329     3\n",
       "3330     5\n",
       "3331     7\n",
       "3332     1\n",
       "3333     2\n",
       "3334     5\n",
       "3335    15\n",
       "3336    10\n",
       "3337     5\n",
       "3338    11\n",
       "3339     4\n",
       "3340     5\n",
       "3341     1\n",
       "3342     8\n",
       "Name: spell, Length: 3343, dtype: int64"
      ]
     },
     "execution_count": 7,
     "metadata": {},
     "output_type": "execute_result"
    }
   ],
   "source": [
    "# Spell is referring to time \n",
    "T = survival_unemp.spell\n",
    "T"
   ]
  },
  {
   "cell_type": "code",
   "execution_count": 8,
   "metadata": {},
   "outputs": [
    {
     "name": "stdout",
     "output_type": "stream",
     "text": [
      "Collecting lifelines\n",
      "  Downloading https://files.pythonhosted.org/packages/61/e0/89f8536a18f63d031be991388a46bf48fe03ace1bba3acb9e6725704e495/lifelines-0.24.7-py3-none-any.whl (331kB)\n",
      "Requirement already satisfied: scipy>=1.2.0 in c:\\users\\varun\\anacond\\lib\\site-packages (from lifelines) (1.2.0)\n",
      "Collecting autograd>=1.3 (from lifelines)\n",
      "  Downloading https://files.pythonhosted.org/packages/23/12/b58522dc2cbbd7ab939c7b8e5542c441c9a06a8eccb00b3ecac04a739896/autograd-1.3.tar.gz\n",
      "Collecting autograd-gamma>=0.3 (from lifelines)\n",
      "  Downloading https://files.pythonhosted.org/packages/0a/07/d99339c9420b58b723a9189d1373e5c3889758b2202a1a7fe4a3b7a10c5a/autograd_gamma-0.4.2-py2.py3-none-any.whl\n",
      "Requirement already satisfied: numpy>=1.14.0 in c:\\users\\varun\\anacond\\lib\\site-packages (from lifelines) (1.16.4)\n",
      "Requirement already satisfied: matplotlib>=3.0 in c:\\users\\varun\\anacond\\lib\\site-packages (from lifelines) (3.0.3)\n",
      "Requirement already satisfied: pandas>=0.23.0 in c:\\users\\varun\\anacond\\lib\\site-packages (from lifelines) (0.24.2)\n",
      "Requirement already satisfied: future>=0.15.2 in c:\\users\\varun\\anacond\\lib\\site-packages (from autograd>=1.3->lifelines) (0.17.1)\n",
      "Requirement already satisfied: cycler>=0.10 in c:\\users\\varun\\anacond\\lib\\site-packages (from matplotlib>=3.0->lifelines) (0.10.0)\n",
      "Requirement already satisfied: kiwisolver>=1.0.1 in c:\\users\\varun\\anacond\\lib\\site-packages (from matplotlib>=3.0->lifelines) (1.0.1)\n",
      "Requirement already satisfied: pyparsing!=2.0.4,!=2.1.2,!=2.1.6,>=2.0.1 in c:\\users\\varun\\anacond\\lib\\site-packages (from matplotlib>=3.0->lifelines) (2.3.1)\n",
      "Requirement already satisfied: python-dateutil>=2.1 in c:\\users\\varun\\anacond\\lib\\site-packages (from matplotlib>=3.0->lifelines) (2.8.0)\n",
      "Requirement already satisfied: pytz>=2011k in c:\\users\\varun\\anacond\\lib\\site-packages (from pandas>=0.23.0->lifelines) (2018.9)\n",
      "Requirement already satisfied: six in c:\\users\\varun\\anacond\\lib\\site-packages (from cycler>=0.10->matplotlib>=3.0->lifelines) (1.12.0)\n",
      "Requirement already satisfied: setuptools in c:\\users\\varun\\anacond\\lib\\site-packages (from kiwisolver>=1.0.1->matplotlib>=3.0->lifelines) (46.3.0)\n",
      "Building wheels for collected packages: autograd\n",
      "  Building wheel for autograd (setup.py): started\n",
      "  Building wheel for autograd (setup.py): finished with status 'done'\n",
      "  Stored in directory: C:\\Users\\varun\\AppData\\Local\\pip\\Cache\\wheels\\42\\62\\66\\1121afe23ff96af4e452e0d15e68761e3f605952ee075ca99f\n",
      "Successfully built autograd\n",
      "Installing collected packages: autograd, autograd-gamma, lifelines\n",
      "Successfully installed autograd-1.3 autograd-gamma-0.4.2 lifelines-0.24.7\n"
     ]
    }
   ],
   "source": [
    "!pip install lifelines"
   ]
  },
  {
   "cell_type": "code",
   "execution_count": 39,
   "metadata": {},
   "outputs": [],
   "source": [
    "# Importing the KaplanMeierFitter model to fit the survival analysis\n",
    "from lifelines import KaplanMeierFitter\n",
    "\n",
    "# Initiating the KaplanMeierFitter model\n",
    "kmf = KaplanMeierFitter()"
   ]
  },
  {
   "cell_type": "code",
   "execution_count": 40,
   "metadata": {},
   "outputs": [
    {
     "data": {
      "text/plain": [
       "<lifelines.KaplanMeierFitter:\"KM_estimate\", fitted with 3343 total observations, 2270 right-censored observations>"
      ]
     },
     "execution_count": 40,
     "metadata": {},
     "output_type": "execute_result"
    }
   ],
   "source": [
    "# Fitting KaplanMeierFitter model on Time and Events for death \n",
    "kmf.fit(T,event_observed=survival_unemp.event)\n"
   ]
  },
  {
   "cell_type": "code",
   "execution_count": 41,
   "metadata": {},
   "outputs": [
    {
     "data": {
      "text/plain": [
       "<matplotlib.axes._subplots.AxesSubplot at 0x1a8e6f9c2e8>"
      ]
     },
     "execution_count": 41,
     "metadata": {},
     "output_type": "execute_result"
    },
    {
     "data": {
      "image/png": "[encoded data removed]",
      "text/plain": [
       "<Figure size 432x288 with 1 Axes>"
      ]
     },
     "metadata": {
      "needs_background": "light"
     },
     "output_type": "display_data"
    }
   ],
   "source": [
    "# Time-line estimations plot \n",
    "kmf.plot()"
   ]
  },
  {
   "cell_type": "code",
   "execution_count": 42,
   "metadata": {},
   "outputs": [
    {
     "data": {
      "text/plain": [
       "1    1848\n",
       "0    1495\n",
       "Name: ui, dtype: int64"
      ]
     },
     "execution_count": 42,
     "metadata": {},
     "output_type": "execute_result"
    }
   ],
   "source": [
    "# Over Multiple groups \n",
    "# For each group, here group is ui\n",
    "survival_unemp.ui.value_counts()"
   ]
  },
  {
   "cell_type": "code",
   "execution_count": 43,
   "metadata": {},
   "outputs": [
    {
     "data": {
      "text/plain": [
       "<matplotlib.axes._subplots.AxesSubplot at 0x1a8e6ffcd30>"
      ]
     },
     "execution_count": 43,
     "metadata": {},
     "output_type": "execute_result"
    },
    {
     "data": {
      "image/png": "[encoded data removed]",
      "text/plain": [
       "<Figure size 432x288 with 1 Axes>"
      ]
     },
     "metadata": {
      "needs_background": "light"
     },
     "output_type": "display_data"
    }
   ],
   "source": [
    "# Over Multiple groups \n",
    "# For each group, here group is ui\n",
    "survival_unemp.ui.value_counts()\n",
    "\n",
    "# Applying KaplanMeierFitter model on Time and Events for the group \"1\"\n",
    "kmf.fit(T[survival_unemp.ui==1], survival_unemp.event[survival_unemp.ui==1], label='1')\n",
    "ax = kmf.plot()\n",
    "\n",
    "# Applying KaplanMeierFitter model on Time and Events for the group \"0\"\n",
    "kmf.fit(T[survival_unemp.ui==0], survival_unemp.event[survival_unemp.ui==0], label='0')\n",
    "kmf.plot()\n"
   ]
  }
 ],
 "metadata": {
  "kernelspec": {
   "display_name": "Python 3",
   "language": "python",
   "name": "python3"
  },
  "language_info": {
   "codemirror_mode": {
    "name": "ipython",
    "version": 3
   },
   "file_extension": ".py",
   "mimetype": "text/x-python",
   "name": "python",
   "nbconvert_exporter": "python",
   "pygments_lexer": "ipython3",
   "version": "3.7.3"
  }
 },
 "nbformat": 4,
 "nbformat_minor": 2
}
