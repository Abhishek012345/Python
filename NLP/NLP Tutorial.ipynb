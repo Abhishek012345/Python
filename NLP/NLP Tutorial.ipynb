{
 "cells": [
  {
   "cell_type": "code",
   "execution_count": 15,
   "metadata": {},
   "outputs": [
    {
     "name": "stderr",
     "output_type": "stream",
     "text": [
      "[nltk_data] Downloading collection 'all'\n",
      "[nltk_data]    | \n",
      "[nltk_data]    | Downloading package abc to\n",
      "[nltk_data]    |     C:\\Users\\varun\\AppData\\Roaming\\nltk_data...\n",
      "[nltk_data]    |   Package abc is already up-to-date!\n",
      "[nltk_data]    | Downloading package alpino to\n",
      "[nltk_data]    |     C:\\Users\\varun\\AppData\\Roaming\\nltk_data...\n",
      "[nltk_data]    |   Package alpino is already up-to-date!\n",
      "[nltk_data]    | Downloading package biocreative_ppi to\n",
      "[nltk_data]    |     C:\\Users\\varun\\AppData\\Roaming\\nltk_data...\n",
      "[nltk_data]    |   Package biocreative_ppi is already up-to-date!\n",
      "[nltk_data]    | Downloading package brown to\n",
      "[nltk_data]    |     C:\\Users\\varun\\AppData\\Roaming\\nltk_data...\n",
      "[nltk_data]    |   Package brown is already up-to-date!\n",
      "[nltk_data]    | Downloading package brown_tei to\n",
      "[nltk_data]    |     C:\\Users\\varun\\AppData\\Roaming\\nltk_data...\n",
      "[nltk_data]    |   Package brown_tei is already up-to-date!\n",
      "[nltk_data]    | Downloading package cess_cat to\n",
      "[nltk_data]    |     C:\\Users\\varun\\AppData\\Roaming\\nltk_data...\n",
      "[nltk_data]    |   Package cess_cat is already up-to-date!\n",
      "[nltk_data]    | Downloading package cess_esp to\n",
      "[nltk_data]    |     C:\\Users\\varun\\AppData\\Roaming\\nltk_data...\n",
      "[nltk_data]    |   Package cess_esp is already up-to-date!\n",
      "[nltk_data]    | Downloading package chat80 to\n",
      "[nltk_data]    |     C:\\Users\\varun\\AppData\\Roaming\\nltk_data...\n",
      "[nltk_data]    |   Package chat80 is already up-to-date!\n",
      "[nltk_data]    | Downloading package city_database to\n",
      "[nltk_data]    |     C:\\Users\\varun\\AppData\\Roaming\\nltk_data...\n",
      "[nltk_data]    |   Package city_database is already up-to-date!\n",
      "[nltk_data]    | Downloading package cmudict to\n",
      "[nltk_data]    |     C:\\Users\\varun\\AppData\\Roaming\\nltk_data...\n",
      "[nltk_data]    |   Package cmudict is already up-to-date!\n",
      "[nltk_data]    | Downloading package comparative_sentences to\n",
      "[nltk_data]    |     C:\\Users\\varun\\AppData\\Roaming\\nltk_data...\n",
      "[nltk_data]    |   Package comparative_sentences is already up-to-\n",
      "[nltk_data]    |       date!\n",
      "[nltk_data]    | Downloading package comtrans to\n",
      "[nltk_data]    |     C:\\Users\\varun\\AppData\\Roaming\\nltk_data...\n",
      "[nltk_data]    |   Package comtrans is already up-to-date!\n",
      "[nltk_data]    | Downloading package conll2000 to\n",
      "[nltk_data]    |     C:\\Users\\varun\\AppData\\Roaming\\nltk_data...\n",
      "[nltk_data]    |   Package conll2000 is already up-to-date!\n",
      "[nltk_data]    | Downloading package conll2002 to\n",
      "[nltk_data]    |     C:\\Users\\varun\\AppData\\Roaming\\nltk_data...\n",
      "[nltk_data]    |   Package conll2002 is already up-to-date!\n",
      "[nltk_data]    | Downloading package conll2007 to\n",
      "[nltk_data]    |     C:\\Users\\varun\\AppData\\Roaming\\nltk_data...\n",
      "[nltk_data]    |   Package conll2007 is already up-to-date!\n",
      "[nltk_data]    | Downloading package crubadan to\n",
      "[nltk_data]    |     C:\\Users\\varun\\AppData\\Roaming\\nltk_data...\n",
      "[nltk_data]    |   Package crubadan is already up-to-date!\n",
      "[nltk_data]    | Downloading package dependency_treebank to\n",
      "[nltk_data]    |     C:\\Users\\varun\\AppData\\Roaming\\nltk_data...\n",
      "[nltk_data]    |   Package dependency_treebank is already up-to-date!\n",
      "[nltk_data]    | Downloading package dolch to\n",
      "[nltk_data]    |     C:\\Users\\varun\\AppData\\Roaming\\nltk_data...\n",
      "[nltk_data]    |   Package dolch is already up-to-date!\n",
      "[nltk_data]    | Downloading package europarl_raw to\n",
      "[nltk_data]    |     C:\\Users\\varun\\AppData\\Roaming\\nltk_data...\n",
      "[nltk_data]    |   Package europarl_raw is already up-to-date!\n",
      "[nltk_data]    | Downloading package floresta to\n",
      "[nltk_data]    |     C:\\Users\\varun\\AppData\\Roaming\\nltk_data...\n",
      "[nltk_data]    |   Package floresta is already up-to-date!\n",
      "[nltk_data]    | Downloading package framenet_v15 to\n",
      "[nltk_data]    |     C:\\Users\\varun\\AppData\\Roaming\\nltk_data...\n",
      "[nltk_data]    |   Package framenet_v15 is already up-to-date!\n",
      "[nltk_data]    | Downloading package framenet_v17 to\n",
      "[nltk_data]    |     C:\\Users\\varun\\AppData\\Roaming\\nltk_data...\n",
      "[nltk_data]    |   Package framenet_v17 is already up-to-date!\n",
      "[nltk_data]    | Downloading package gazetteers to\n",
      "[nltk_data]    |     C:\\Users\\varun\\AppData\\Roaming\\nltk_data...\n",
      "[nltk_data]    |   Package gazetteers is already up-to-date!\n",
      "[nltk_data]    | Downloading package genesis to\n",
      "[nltk_data]    |     C:\\Users\\varun\\AppData\\Roaming\\nltk_data...\n",
      "[nltk_data]    |   Package genesis is already up-to-date!\n",
      "[nltk_data]    | Downloading package gutenberg to\n",
      "[nltk_data]    |     C:\\Users\\varun\\AppData\\Roaming\\nltk_data...\n",
      "[nltk_data]    |   Package gutenberg is already up-to-date!\n",
      "[nltk_data]    | Downloading package ieer to\n",
      "[nltk_data]    |     C:\\Users\\varun\\AppData\\Roaming\\nltk_data...\n",
      "[nltk_data]    |   Package ieer is already up-to-date!\n",
      "[nltk_data]    | Downloading package inaugural to\n",
      "[nltk_data]    |     C:\\Users\\varun\\AppData\\Roaming\\nltk_data...\n",
      "[nltk_data]    |   Package inaugural is already up-to-date!\n",
      "[nltk_data]    | Downloading package indian to\n",
      "[nltk_data]    |     C:\\Users\\varun\\AppData\\Roaming\\nltk_data...\n",
      "[nltk_data]    |   Package indian is already up-to-date!\n",
      "[nltk_data]    | Downloading package jeita to\n",
      "[nltk_data]    |     C:\\Users\\varun\\AppData\\Roaming\\nltk_data...\n",
      "[nltk_data]    |   Package jeita is already up-to-date!\n",
      "[nltk_data]    | Downloading package kimmo to\n",
      "[nltk_data]    |     C:\\Users\\varun\\AppData\\Roaming\\nltk_data...\n",
      "[nltk_data]    |   Package kimmo is already up-to-date!\n",
      "[nltk_data]    | Downloading package knbc to\n",
      "[nltk_data]    |     C:\\Users\\varun\\AppData\\Roaming\\nltk_data...\n",
      "[nltk_data]    |   Package knbc is already up-to-date!\n",
      "[nltk_data]    | Downloading package lin_thesaurus to\n",
      "[nltk_data]    |     C:\\Users\\varun\\AppData\\Roaming\\nltk_data...\n",
      "[nltk_data]    |   Package lin_thesaurus is already up-to-date!\n",
      "[nltk_data]    | Downloading package mac_morpho to\n",
      "[nltk_data]    |     C:\\Users\\varun\\AppData\\Roaming\\nltk_data...\n",
      "[nltk_data]    |   Package mac_morpho is already up-to-date!\n",
      "[nltk_data]    | Downloading package machado to\n",
      "[nltk_data]    |     C:\\Users\\varun\\AppData\\Roaming\\nltk_data...\n",
      "[nltk_data]    |   Package machado is already up-to-date!\n",
      "[nltk_data]    | Downloading package masc_tagged to\n",
      "[nltk_data]    |     C:\\Users\\varun\\AppData\\Roaming\\nltk_data...\n",
      "[nltk_data]    |   Package masc_tagged is already up-to-date!\n",
      "[nltk_data]    | Downloading package moses_sample to\n",
      "[nltk_data]    |     C:\\Users\\varun\\AppData\\Roaming\\nltk_data...\n",
      "[nltk_data]    |   Package moses_sample is already up-to-date!\n",
      "[nltk_data]    | Downloading package movie_reviews to\n",
      "[nltk_data]    |     C:\\Users\\varun\\AppData\\Roaming\\nltk_data...\n",
      "[nltk_data]    |   Package movie_reviews is already up-to-date!\n",
      "[nltk_data]    | Downloading package names to\n",
      "[nltk_data]    |     C:\\Users\\varun\\AppData\\Roaming\\nltk_data...\n",
      "[nltk_data]    |   Package names is already up-to-date!\n",
      "[nltk_data]    | Downloading package nombank.1.0 to\n",
      "[nltk_data]    |     C:\\Users\\varun\\AppData\\Roaming\\nltk_data...\n",
      "[nltk_data]    |   Package nombank.1.0 is already up-to-date!\n",
      "[nltk_data]    | Downloading package nps_chat to\n",
      "[nltk_data]    |     C:\\Users\\varun\\AppData\\Roaming\\nltk_data...\n",
      "[nltk_data]    |   Package nps_chat is already up-to-date!\n",
      "[nltk_data]    | Downloading package omw to\n",
      "[nltk_data]    |     C:\\Users\\varun\\AppData\\Roaming\\nltk_data...\n",
      "[nltk_data]    |   Package omw is already up-to-date!\n",
      "[nltk_data]    | Downloading package opinion_lexicon to\n",
      "[nltk_data]    |     C:\\Users\\varun\\AppData\\Roaming\\nltk_data...\n",
      "[nltk_data]    |   Package opinion_lexicon is already up-to-date!\n",
      "[nltk_data]    | Downloading package paradigms to\n",
      "[nltk_data]    |     C:\\Users\\varun\\AppData\\Roaming\\nltk_data...\n",
      "[nltk_data]    |   Package paradigms is already up-to-date!\n",
      "[nltk_data]    | Downloading package pil to\n",
      "[nltk_data]    |     C:\\Users\\varun\\AppData\\Roaming\\nltk_data...\n",
      "[nltk_data]    |   Package pil is already up-to-date!\n",
      "[nltk_data]    | Downloading package pl196x to\n",
      "[nltk_data]    |     C:\\Users\\varun\\AppData\\Roaming\\nltk_data...\n",
      "[nltk_data]    |   Package pl196x is already up-to-date!\n",
      "[nltk_data]    | Downloading package ppattach to\n",
      "[nltk_data]    |     C:\\Users\\varun\\AppData\\Roaming\\nltk_data...\n",
      "[nltk_data]    |   Package ppattach is already up-to-date!\n",
      "[nltk_data]    | Downloading package problem_reports to\n",
      "[nltk_data]    |     C:\\Users\\varun\\AppData\\Roaming\\nltk_data...\n"
     ]
    },
    {
     "name": "stderr",
     "output_type": "stream",
     "text": [
      "[nltk_data]    |   Package problem_reports is already up-to-date!\n",
      "[nltk_data]    | Downloading package propbank to\n",
      "[nltk_data]    |     C:\\Users\\varun\\AppData\\Roaming\\nltk_data...\n",
      "[nltk_data]    |   Package propbank is already up-to-date!\n",
      "[nltk_data]    | Downloading package ptb to\n",
      "[nltk_data]    |     C:\\Users\\varun\\AppData\\Roaming\\nltk_data...\n",
      "[nltk_data]    |   Package ptb is already up-to-date!\n",
      "[nltk_data]    | Downloading package product_reviews_1 to\n",
      "[nltk_data]    |     C:\\Users\\varun\\AppData\\Roaming\\nltk_data...\n",
      "[nltk_data]    |   Package product_reviews_1 is already up-to-date!\n",
      "[nltk_data]    | Downloading package product_reviews_2 to\n",
      "[nltk_data]    |     C:\\Users\\varun\\AppData\\Roaming\\nltk_data...\n",
      "[nltk_data]    |   Package product_reviews_2 is already up-to-date!\n",
      "[nltk_data]    | Downloading package pros_cons to\n",
      "[nltk_data]    |     C:\\Users\\varun\\AppData\\Roaming\\nltk_data...\n",
      "[nltk_data]    |   Package pros_cons is already up-to-date!\n",
      "[nltk_data]    | Downloading package qc to\n",
      "[nltk_data]    |     C:\\Users\\varun\\AppData\\Roaming\\nltk_data...\n",
      "[nltk_data]    |   Package qc is already up-to-date!\n",
      "[nltk_data]    | Downloading package reuters to\n",
      "[nltk_data]    |     C:\\Users\\varun\\AppData\\Roaming\\nltk_data...\n",
      "[nltk_data]    |   Package reuters is already up-to-date!\n",
      "[nltk_data]    | Downloading package rte to\n",
      "[nltk_data]    |     C:\\Users\\varun\\AppData\\Roaming\\nltk_data...\n",
      "[nltk_data]    |   Package rte is already up-to-date!\n",
      "[nltk_data]    | Downloading package semcor to\n",
      "[nltk_data]    |     C:\\Users\\varun\\AppData\\Roaming\\nltk_data...\n",
      "[nltk_data]    |   Package semcor is already up-to-date!\n",
      "[nltk_data]    | Downloading package senseval to\n",
      "[nltk_data]    |     C:\\Users\\varun\\AppData\\Roaming\\nltk_data...\n",
      "[nltk_data]    |   Package senseval is already up-to-date!\n",
      "[nltk_data]    | Downloading package sentiwordnet to\n",
      "[nltk_data]    |     C:\\Users\\varun\\AppData\\Roaming\\nltk_data...\n",
      "[nltk_data]    |   Package sentiwordnet is already up-to-date!\n",
      "[nltk_data]    | Downloading package sentence_polarity to\n",
      "[nltk_data]    |     C:\\Users\\varun\\AppData\\Roaming\\nltk_data...\n",
      "[nltk_data]    |   Package sentence_polarity is already up-to-date!\n",
      "[nltk_data]    | Downloading package shakespeare to\n",
      "[nltk_data]    |     C:\\Users\\varun\\AppData\\Roaming\\nltk_data...\n",
      "[nltk_data]    |   Package shakespeare is already up-to-date!\n",
      "[nltk_data]    | Downloading package sinica_treebank to\n",
      "[nltk_data]    |     C:\\Users\\varun\\AppData\\Roaming\\nltk_data...\n",
      "[nltk_data]    |   Package sinica_treebank is already up-to-date!\n",
      "[nltk_data]    | Downloading package smultron to\n",
      "[nltk_data]    |     C:\\Users\\varun\\AppData\\Roaming\\nltk_data...\n",
      "[nltk_data]    |   Package smultron is already up-to-date!\n",
      "[nltk_data]    | Downloading package state_union to\n",
      "[nltk_data]    |     C:\\Users\\varun\\AppData\\Roaming\\nltk_data...\n",
      "[nltk_data]    |   Package state_union is already up-to-date!\n",
      "[nltk_data]    | Downloading package stopwords to\n",
      "[nltk_data]    |     C:\\Users\\varun\\AppData\\Roaming\\nltk_data...\n",
      "[nltk_data]    |   Package stopwords is already up-to-date!\n",
      "[nltk_data]    | Downloading package subjectivity to\n",
      "[nltk_data]    |     C:\\Users\\varun\\AppData\\Roaming\\nltk_data...\n",
      "[nltk_data]    |   Package subjectivity is already up-to-date!\n",
      "[nltk_data]    | Downloading package swadesh to\n",
      "[nltk_data]    |     C:\\Users\\varun\\AppData\\Roaming\\nltk_data...\n",
      "[nltk_data]    |   Package swadesh is already up-to-date!\n",
      "[nltk_data]    | Downloading package switchboard to\n",
      "[nltk_data]    |     C:\\Users\\varun\\AppData\\Roaming\\nltk_data...\n",
      "[nltk_data]    |   Package switchboard is already up-to-date!\n",
      "[nltk_data]    | Downloading package timit to\n",
      "[nltk_data]    |     C:\\Users\\varun\\AppData\\Roaming\\nltk_data...\n",
      "[nltk_data]    |   Package timit is already up-to-date!\n",
      "[nltk_data]    | Downloading package toolbox to\n",
      "[nltk_data]    |     C:\\Users\\varun\\AppData\\Roaming\\nltk_data...\n",
      "[nltk_data]    |   Package toolbox is already up-to-date!\n",
      "[nltk_data]    | Downloading package treebank to\n",
      "[nltk_data]    |     C:\\Users\\varun\\AppData\\Roaming\\nltk_data...\n",
      "[nltk_data]    |   Package treebank is already up-to-date!\n",
      "[nltk_data]    | Downloading package twitter_samples to\n",
      "[nltk_data]    |     C:\\Users\\varun\\AppData\\Roaming\\nltk_data...\n",
      "[nltk_data]    |   Package twitter_samples is already up-to-date!\n",
      "[nltk_data]    | Downloading package udhr to\n",
      "[nltk_data]    |     C:\\Users\\varun\\AppData\\Roaming\\nltk_data...\n",
      "[nltk_data]    |   Package udhr is already up-to-date!\n",
      "[nltk_data]    | Downloading package udhr2 to\n",
      "[nltk_data]    |     C:\\Users\\varun\\AppData\\Roaming\\nltk_data...\n",
      "[nltk_data]    |   Package udhr2 is already up-to-date!\n",
      "[nltk_data]    | Downloading package unicode_samples to\n",
      "[nltk_data]    |     C:\\Users\\varun\\AppData\\Roaming\\nltk_data...\n",
      "[nltk_data]    |   Package unicode_samples is already up-to-date!\n",
      "[nltk_data]    | Downloading package universal_treebanks_v20 to\n",
      "[nltk_data]    |     C:\\Users\\varun\\AppData\\Roaming\\nltk_data...\n",
      "[nltk_data]    |   Package universal_treebanks_v20 is already up-to-\n",
      "[nltk_data]    |       date!\n",
      "[nltk_data]    | Downloading package verbnet to\n",
      "[nltk_data]    |     C:\\Users\\varun\\AppData\\Roaming\\nltk_data...\n",
      "[nltk_data]    |   Package verbnet is already up-to-date!\n",
      "[nltk_data]    | Downloading package verbnet3 to\n",
      "[nltk_data]    |     C:\\Users\\varun\\AppData\\Roaming\\nltk_data...\n",
      "[nltk_data]    |   Package verbnet3 is already up-to-date!\n",
      "[nltk_data]    | Downloading package webtext to\n",
      "[nltk_data]    |     C:\\Users\\varun\\AppData\\Roaming\\nltk_data...\n",
      "[nltk_data]    |   Package webtext is already up-to-date!\n",
      "[nltk_data]    | Downloading package wordnet to\n",
      "[nltk_data]    |     C:\\Users\\varun\\AppData\\Roaming\\nltk_data...\n",
      "[nltk_data]    |   Package wordnet is already up-to-date!\n",
      "[nltk_data]    | Downloading package wordnet_ic to\n",
      "[nltk_data]    |     C:\\Users\\varun\\AppData\\Roaming\\nltk_data...\n",
      "[nltk_data]    |   Package wordnet_ic is already up-to-date!\n",
      "[nltk_data]    | Downloading package words to\n",
      "[nltk_data]    |     C:\\Users\\varun\\AppData\\Roaming\\nltk_data...\n",
      "[nltk_data]    |   Package words is already up-to-date!\n",
      "[nltk_data]    | Downloading package ycoe to\n",
      "[nltk_data]    |     C:\\Users\\varun\\AppData\\Roaming\\nltk_data...\n",
      "[nltk_data]    |   Package ycoe is already up-to-date!\n",
      "[nltk_data]    | Downloading package rslp to\n",
      "[nltk_data]    |     C:\\Users\\varun\\AppData\\Roaming\\nltk_data...\n",
      "[nltk_data]    |   Package rslp is already up-to-date!\n",
      "[nltk_data]    | Downloading package maxent_treebank_pos_tagger to\n",
      "[nltk_data]    |     C:\\Users\\varun\\AppData\\Roaming\\nltk_data...\n",
      "[nltk_data]    |   Package maxent_treebank_pos_tagger is already up-\n",
      "[nltk_data]    |       to-date!\n",
      "[nltk_data]    | Downloading package universal_tagset to\n",
      "[nltk_data]    |     C:\\Users\\varun\\AppData\\Roaming\\nltk_data...\n",
      "[nltk_data]    |   Package universal_tagset is already up-to-date!\n",
      "[nltk_data]    | Downloading package maxent_ne_chunker to\n",
      "[nltk_data]    |     C:\\Users\\varun\\AppData\\Roaming\\nltk_data...\n",
      "[nltk_data]    |   Package maxent_ne_chunker is already up-to-date!\n",
      "[nltk_data]    | Downloading package punkt to\n",
      "[nltk_data]    |     C:\\Users\\varun\\AppData\\Roaming\\nltk_data...\n",
      "[nltk_data]    |   Package punkt is already up-to-date!\n",
      "[nltk_data]    | Downloading package book_grammars to\n",
      "[nltk_data]    |     C:\\Users\\varun\\AppData\\Roaming\\nltk_data...\n",
      "[nltk_data]    |   Package book_grammars is already up-to-date!\n",
      "[nltk_data]    | Downloading package sample_grammars to\n",
      "[nltk_data]    |     C:\\Users\\varun\\AppData\\Roaming\\nltk_data...\n",
      "[nltk_data]    |   Package sample_grammars is already up-to-date!\n",
      "[nltk_data]    | Downloading package spanish_grammars to\n",
      "[nltk_data]    |     C:\\Users\\varun\\AppData\\Roaming\\nltk_data...\n",
      "[nltk_data]    |   Package spanish_grammars is already up-to-date!\n",
      "[nltk_data]    | Downloading package basque_grammars to\n",
      "[nltk_data]    |     C:\\Users\\varun\\AppData\\Roaming\\nltk_data...\n",
      "[nltk_data]    |   Package basque_grammars is already up-to-date!\n",
      "[nltk_data]    | Downloading package large_grammars to\n",
      "[nltk_data]    |     C:\\Users\\varun\\AppData\\Roaming\\nltk_data...\n",
      "[nltk_data]    |   Package large_grammars is already up-to-date!\n",
      "[nltk_data]    | Downloading package tagsets to\n",
      "[nltk_data]    |     C:\\Users\\varun\\AppData\\Roaming\\nltk_data...\n"
     ]
    },
    {
     "name": "stderr",
     "output_type": "stream",
     "text": [
      "[nltk_data]    |   Package tagsets is already up-to-date!\n",
      "[nltk_data]    | Downloading package snowball_data to\n",
      "[nltk_data]    |     C:\\Users\\varun\\AppData\\Roaming\\nltk_data...\n",
      "[nltk_data]    |   Package snowball_data is already up-to-date!\n",
      "[nltk_data]    | Downloading package bllip_wsj_no_aux to\n",
      "[nltk_data]    |     C:\\Users\\varun\\AppData\\Roaming\\nltk_data...\n",
      "[nltk_data]    |   Package bllip_wsj_no_aux is already up-to-date!\n",
      "[nltk_data]    | Downloading package word2vec_sample to\n",
      "[nltk_data]    |     C:\\Users\\varun\\AppData\\Roaming\\nltk_data...\n",
      "[nltk_data]    |   Package word2vec_sample is already up-to-date!\n",
      "[nltk_data]    | Downloading package panlex_swadesh to\n",
      "[nltk_data]    |     C:\\Users\\varun\\AppData\\Roaming\\nltk_data...\n",
      "[nltk_data]    |   Package panlex_swadesh is already up-to-date!\n",
      "[nltk_data]    | Downloading package mte_teip5 to\n",
      "[nltk_data]    |     C:\\Users\\varun\\AppData\\Roaming\\nltk_data...\n",
      "[nltk_data]    |   Package mte_teip5 is already up-to-date!\n",
      "[nltk_data]    | Downloading package averaged_perceptron_tagger to\n",
      "[nltk_data]    |     C:\\Users\\varun\\AppData\\Roaming\\nltk_data...\n",
      "[nltk_data]    |   Package averaged_perceptron_tagger is already up-\n",
      "[nltk_data]    |       to-date!\n",
      "[nltk_data]    | Downloading package averaged_perceptron_tagger_ru to\n",
      "[nltk_data]    |     C:\\Users\\varun\\AppData\\Roaming\\nltk_data...\n",
      "[nltk_data]    |   Package averaged_perceptron_tagger_ru is already\n",
      "[nltk_data]    |       up-to-date!\n",
      "[nltk_data]    | Downloading package perluniprops to\n",
      "[nltk_data]    |     C:\\Users\\varun\\AppData\\Roaming\\nltk_data...\n",
      "[nltk_data]    |   Package perluniprops is already up-to-date!\n",
      "[nltk_data]    | Downloading package nonbreaking_prefixes to\n",
      "[nltk_data]    |     C:\\Users\\varun\\AppData\\Roaming\\nltk_data...\n",
      "[nltk_data]    |   Package nonbreaking_prefixes is already up-to-date!\n",
      "[nltk_data]    | Downloading package vader_lexicon to\n",
      "[nltk_data]    |     C:\\Users\\varun\\AppData\\Roaming\\nltk_data...\n",
      "[nltk_data]    |   Package vader_lexicon is already up-to-date!\n",
      "[nltk_data]    | Downloading package porter_test to\n",
      "[nltk_data]    |     C:\\Users\\varun\\AppData\\Roaming\\nltk_data...\n",
      "[nltk_data]    |   Package porter_test is already up-to-date!\n",
      "[nltk_data]    | Downloading package wmt15_eval to\n",
      "[nltk_data]    |     C:\\Users\\varun\\AppData\\Roaming\\nltk_data...\n",
      "[nltk_data]    |   Package wmt15_eval is already up-to-date!\n",
      "[nltk_data]    | Downloading package mwa_ppdb to\n",
      "[nltk_data]    |     C:\\Users\\varun\\AppData\\Roaming\\nltk_data...\n",
      "[nltk_data]    |   Package mwa_ppdb is already up-to-date!\n",
      "[nltk_data]    | \n",
      "[nltk_data]  Done downloading collection all\n"
     ]
    },
    {
     "data": {
      "text/plain": [
       "True"
      ]
     },
     "execution_count": 15,
     "metadata": {},
     "output_type": "execute_result"
    }
   ],
   "source": [
    "import os\n",
    "import nltk\n",
    "import nltk.corpus\n",
    "nltk.download('all')"
   ]
  },
  {
   "cell_type": "code",
   "execution_count": 2,
   "metadata": {},
   "outputs": [
    {
     "name": "stdout",
     "output_type": "stream",
     "text": [
      "['abc', 'abc.zip', 'alpino', 'alpino.zip', 'biocreative_ppi', 'biocreative_ppi.zip', 'brown', 'brown.zip', 'brown_tei', 'brown_tei.zip', 'cess_cat', 'cess_cat.zip', 'cess_esp', 'cess_esp.zip', 'chat80', 'chat80.zip', 'city_database', 'city_database.zip', 'cmudict', 'cmudict.zip', 'comparative_sentences', 'comparative_sentences.zip', 'comtrans.zip', 'conll2000', 'conll2000.zip', 'conll2002', 'conll2002.zip', 'conll2007.zip', 'crubadan', 'crubadan.zip', 'dependency_treebank', 'dependency_treebank.zip', 'dolch', 'dolch.zip', 'europarl_raw', 'europarl_raw.zip', 'floresta', 'floresta.zip', 'framenet_v15', 'framenet_v15.zip', 'framenet_v17', 'framenet_v17.zip', 'gazetteers', 'gazetteers.zip', 'genesis', 'genesis.zip', 'gutenberg', 'gutenberg.zip', 'ieer', 'ieer.zip', 'inaugural', 'inaugural.zip', 'indian', 'indian.zip', 'jeita.zip', 'kimmo', 'kimmo.zip', 'knbc.zip', 'lin_thesaurus', 'lin_thesaurus.zip', 'machado.zip', 'mac_morpho', 'mac_morpho.zip', 'masc_tagged.zip', 'movie_reviews', 'movie_reviews.zip', 'mte_teip5', 'mte_teip5.zip', 'names', 'names.zip', 'nombank.1.0.zip', 'nonbreaking_prefixes', 'nonbreaking_prefixes.zip', 'nps_chat', 'nps_chat.zip', 'omw', 'omw.zip', 'opinion_lexicon', 'opinion_lexicon.zip', 'panlex_swadesh.zip', 'paradigms', 'paradigms.zip', 'pil', 'pil.zip', 'pl196x', 'pl196x.zip', 'ppattach', 'ppattach.zip', 'problem_reports', 'problem_reports.zip', 'product_reviews_1', 'product_reviews_1.zip', 'product_reviews_2', 'product_reviews_2.zip', 'propbank.zip', 'pros_cons', 'pros_cons.zip', 'ptb', 'ptb.zip', 'qc', 'qc.zip', 'reuters.zip', 'rte', 'rte.zip', 'semcor.zip', 'senseval', 'senseval.zip', 'sentence_polarity', 'sentence_polarity.zip', 'sentiwordnet', 'sentiwordnet.zip', 'shakespeare', 'shakespeare.zip', 'sinica_treebank', 'sinica_treebank.zip', 'smultron', 'smultron.zip', 'state_union', 'state_union.zip', 'stopwords', 'stopwords.zip', 'subjectivity', 'subjectivity.zip', 'swadesh', 'swadesh.zip', 'switchboard', 'switchboard.zip', 'timit', 'timit.zip', 'toolbox', 'toolbox.zip', 'treebank', 'treebank.zip', 'twitter_samples', 'twitter_samples.zip', 'udhr', 'udhr.zip', 'udhr2', 'udhr2.zip', 'unicode_samples', 'unicode_samples.zip', 'universal_treebanks_v20.zip', 'verbnet', 'verbnet.zip', 'verbnet3', 'verbnet3.zip', 'webtext', 'webtext.zip', 'wordnet', 'wordnet.zip', 'wordnet_ic', 'wordnet_ic.zip', 'words', 'words.zip', 'ycoe', 'ycoe.zip']\n"
     ]
    }
   ],
   "source": [
    "print(os.listdir(nltk.data.find('corpora')))\n"
   ]
  },
  {
   "cell_type": "code",
   "execution_count": 3,
   "metadata": {},
   "outputs": [
    {
     "data": {
      "text/plain": [
       "['In', 'the', 'beginning', 'God', 'created', 'the', ...]"
      ]
     },
     "execution_count": 3,
     "metadata": {},
     "output_type": "execute_result"
    }
   ],
   "source": [
    "from nltk.corpus import genesis \n",
    "genesis.words()"
   ]
  },
  {
   "cell_type": "code",
   "execution_count": 4,
   "metadata": {},
   "outputs": [
    {
     "data": {
      "text/plain": [
       "['austen-emma.txt',\n",
       " 'austen-persuasion.txt',\n",
       " 'austen-sense.txt',\n",
       " 'bible-kjv.txt',\n",
       " 'blake-poems.txt',\n",
       " 'bryant-stories.txt',\n",
       " 'burgess-busterbrown.txt',\n",
       " 'carroll-alice.txt',\n",
       " 'chesterton-ball.txt',\n",
       " 'chesterton-brown.txt',\n",
       " 'chesterton-thursday.txt',\n",
       " 'edgeworth-parents.txt',\n",
       " 'melville-moby_dick.txt',\n",
       " 'milton-paradise.txt',\n",
       " 'shakespeare-caesar.txt',\n",
       " 'shakespeare-hamlet.txt',\n",
       " 'shakespeare-macbeth.txt',\n",
       " 'whitman-leaves.txt']"
      ]
     },
     "execution_count": 4,
     "metadata": {},
     "output_type": "execute_result"
    }
   ],
   "source": [
    "nltk.corpus.gutenberg.fileids()\n",
    "\n",
    "\n",
    "\n",
    "\n"
   ]
  },
  {
   "cell_type": "code",
   "execution_count": 5,
   "metadata": {},
   "outputs": [
    {
     "data": {
      "text/plain": [
       "['[', 'The', 'Tragedie', 'of', 'Hamlet', 'by', ...]"
      ]
     },
     "execution_count": 5,
     "metadata": {},
     "output_type": "execute_result"
    }
   ],
   "source": [
    "hamlet=nltk.corpus.gutenberg.words('shakespeare-hamlet.txt')\n",
    "hamlet"
   ]
  },
  {
   "cell_type": "code",
   "execution_count": 6,
   "metadata": {},
   "outputs": [
    {
     "name": "stdout",
     "output_type": "stream",
     "text": [
      "[TheTragedieofHamletbyWilliamShakespeare1599]ActusPrimus.ScoenaPrima.EnterBarnardoandFranciscotwoCentinels.Barnardo.Who'sthere?Fran.Nayanswerme:Stand&vnfoldyourselfeBar.LongliuetheKingFran.Barnardo?Bar.HeFran.YoucomemostcarefullyvponyourhoureBar.'Tisnowstrooktwelue,gettheetobedFranciscoFran.Forthisreleefemuchthankes:'Tisbittercold,AndIamsickeatheartBarn.HaueyouhadquietGuard?Fran.NotaMousestirringBarn.Well,goodnight.IfyoudomeetHoratioandMarcellus,theRiualsofmyWatch,bidthemmakehast.EnterHoratioandMarcellus.Fran.IthinkeIhearethem.Stand:who'sthere?Hor.FriendstothisgroundMar.AndLeige-mentotheDaneFran.GiueyougoodnightMar.OfarwelhonestSoldier,whohathrelieu'dyou?Fra.Barnardoha'smyplace:giueyougoodnight.ExitFran.Mar.HollaBarnardoBar.Say,whatisHoratiothere?Hor.ApeeceofhimBar.WelcomeHoratio,welcomegoodMarcellusMar.What,ha'sthisthingappear'dagainetonightBar.IhaueseenenothingMar.Horatiosaies,'tisbutourFantasie,AndwillnotletbeleefetakeholdofhimTouchingthisdreadedsight,twiceseeneofvs,ThereforeIhaueintreatedhimalongWithvs,towatchtheminutesofthisNight,ThatifagainethisApparitioncome,Hemayapproueoureyes,andspeaketoitHor.Tush,tush,'twillnotappeareBar.Sitdownea-while,Andletvsonceagaineassaileyoureares,ThataresofortifiedagainstourStory,WhatwetwoNightshaueseeneHor.Well,sitwedowne,AndletvsheareBarnardospeakeofthisBarn.Lastnightofall,WhenyondsameStarrethat'sWestwardfromthePoleHadmadehiscourset'illumethatpartofHeauenWherenowitburnes,Marcellusandmyselfe,TheBellthenbeatingoneMar.Peace,breaketheeof:EntertheGhost.LookewhereitcomesagaineBarn.Inthesamefigure,liketheKingthat'sdeadMar.ThouartaScholler;speaketoitHoratioBarn.LookesitnotliketheKing?MarkeitHoratioHora.Mostlike:Itharrowesmewithfear&wonderBarn.ItwouldbespoketooMar.QuestionitHoratioHor.Whatart"
     ]
    }
   ],
   "source": [
    "for word in hamlet[:500]:\n",
    "    print(word, sep='', end='')"
   ]
  },
  {
   "cell_type": "code",
   "execution_count": 12,
   "metadata": {},
   "outputs": [
    {
     "data": {
      "text/plain": [
       "str"
      ]
     },
     "execution_count": 12,
     "metadata": {},
     "output_type": "execute_result"
    }
   ],
   "source": [
    "AI=  \"This video will provide you with a comprehensive and detailed knowledge of Natural Language Processing, popularly known as NLP. You will also learn about the different steps involved in processing the human language like Tokenization, Stemming, Lemmatization and more. Python, NLTK, & Jupyter Notebook are used to demonstrate the concepts\"\n",
    "type(AI)"
   ]
  },
  {
   "cell_type": "code",
   "execution_count": 13,
   "metadata": {},
   "outputs": [],
   "source": [
    "from nltk.tokenize import word_tokenize"
   ]
  },
  {
   "cell_type": "code",
   "execution_count": 15,
   "metadata": {},
   "outputs": [
    {
     "data": {
      "text/plain": [
       "['This',\n",
       " 'video',\n",
       " 'will',\n",
       " 'provide',\n",
       " 'you',\n",
       " 'with',\n",
       " 'a',\n",
       " 'comprehensive',\n",
       " 'and',\n",
       " 'detailed',\n",
       " 'knowledge',\n",
       " 'of',\n",
       " 'Natural',\n",
       " 'Language',\n",
       " 'Processing',\n",
       " ',',\n",
       " 'popularly',\n",
       " 'known',\n",
       " 'as',\n",
       " 'NLP',\n",
       " '.',\n",
       " 'You',\n",
       " 'will',\n",
       " 'also',\n",
       " 'learn',\n",
       " 'about',\n",
       " 'the',\n",
       " 'different',\n",
       " 'steps',\n",
       " 'involved',\n",
       " 'in',\n",
       " 'processing',\n",
       " 'the',\n",
       " 'human',\n",
       " 'language',\n",
       " 'like',\n",
       " 'Tokenization',\n",
       " ',',\n",
       " 'Stemming',\n",
       " ',',\n",
       " 'Lemmatization',\n",
       " 'and',\n",
       " 'more',\n",
       " '.',\n",
       " 'Python',\n",
       " ',',\n",
       " 'NLTK',\n",
       " ',',\n",
       " '&',\n",
       " 'Jupyter',\n",
       " 'Notebook',\n",
       " 'are',\n",
       " 'used',\n",
       " 'to',\n",
       " 'demonstrate',\n",
       " 'the',\n",
       " 'concepts']"
      ]
     },
     "execution_count": 15,
     "metadata": {},
     "output_type": "execute_result"
    }
   ],
   "source": [
    "AI_tokens = word_tokenize(AI)\n",
    "AI_tokens"
   ]
  },
  {
   "cell_type": "code",
   "execution_count": 16,
   "metadata": {},
   "outputs": [
    {
     "data": {
      "text/plain": [
       "57"
      ]
     },
     "execution_count": 16,
     "metadata": {},
     "output_type": "execute_result"
    }
   ],
   "source": [
    "len(AI_tokens)"
   ]
  },
  {
   "cell_type": "code",
   "execution_count": 17,
   "metadata": {},
   "outputs": [],
   "source": [
    "from nltk.probability import FreqDist"
   ]
  },
  {
   "cell_type": "code",
   "execution_count": 18,
   "metadata": {},
   "outputs": [],
   "source": [
    "fdist=FreqDist()"
   ]
  },
  {
   "cell_type": "code",
   "execution_count": 19,
   "metadata": {},
   "outputs": [
    {
     "data": {
      "text/plain": [
       "FreqDist({',': 5, 'the': 3, 'will': 2, 'you': 2, 'and': 2, 'language': 2, 'processing': 2, '.': 2, 'this': 1, 'video': 1, ...})"
      ]
     },
     "execution_count": 19,
     "metadata": {},
     "output_type": "execute_result"
    }
   ],
   "source": [
    "for word in AI_tokens:\n",
    "    fdist[word.lower()]+=1\n",
    "fdist"
   ]
  },
  {
   "cell_type": "code",
   "execution_count": 90,
   "metadata": {},
   "outputs": [
    {
     "data": {
      "text/plain": [
       "6"
      ]
     },
     "execution_count": 90,
     "metadata": {},
     "output_type": "execute_result"
    }
   ],
   "source": [
    "fdist['the']"
   ]
  },
  {
   "cell_type": "code",
   "execution_count": 11,
   "metadata": {},
   "outputs": [
    {
     "data": {
      "text/plain": [
       "45"
      ]
     },
     "execution_count": 11,
     "metadata": {},
     "output_type": "execute_result"
    }
   ],
   "source": [
    "len(fdist)"
   ]
  },
  {
   "cell_type": "code",
   "execution_count": 20,
   "metadata": {},
   "outputs": [
    {
     "data": {
      "text/plain": [
       "[(',', 5), ('the', 3), ('will', 2), ('you', 2), ('and', 2)]"
      ]
     },
     "execution_count": 20,
     "metadata": {},
     "output_type": "execute_result"
    }
   ],
   "source": [
    "fdist_top20= fdist.most_common(5)\n",
    "fdist_top20"
   ]
  },
  {
   "cell_type": "code",
   "execution_count": 21,
   "metadata": {},
   "outputs": [
    {
     "data": {
      "text/plain": [
       "1"
      ]
     },
     "execution_count": 21,
     "metadata": {},
     "output_type": "execute_result"
    }
   ],
   "source": [
    "from nltk.tokenize import blankline_tokenize\n",
    "AI_blank=blankline_tokenize(AI)\n",
    "len(AI_blank)"
   ]
  },
  {
   "cell_type": "code",
   "execution_count": 23,
   "metadata": {},
   "outputs": [
    {
     "data": {
      "text/plain": [
       "'This video will provide you with a comprehensive and detailed knowledge of Natural Language Processing, popularly known as NLP. You will also learn about the different steps involved in processing the human language like Tokenization, Stemming, Lemmatization and more. Python, NLTK, & Jupyter Notebook are used to demonstrate the concepts'"
      ]
     },
     "execution_count": 23,
     "metadata": {},
     "output_type": "execute_result"
    }
   ],
   "source": [
    "AI_blank[0]"
   ]
  },
  {
   "cell_type": "code",
   "execution_count": 21,
   "metadata": {},
   "outputs": [
    {
     "data": {
      "application/javascript": [
       "\n",
       "        if (window._pyforest_update_imports_cell) { window._pyforest_update_imports_cell('import nltk'); }\n",
       "    "
      ],
      "text/plain": [
       "<IPython.core.display.Javascript object>"
      ]
     },
     "metadata": {},
     "output_type": "display_data"
    },
    {
     "data": {
      "text/plain": [
       "['This',\n",
       " 'video',\n",
       " 'will',\n",
       " 'provide',\n",
       " 'you',\n",
       " 'with',\n",
       " 'a',\n",
       " 'comprehensive',\n",
       " 'and',\n",
       " 'detailed',\n",
       " 'knowledge',\n",
       " 'of',\n",
       " 'Natural',\n",
       " 'Language',\n",
       " 'Processing',\n",
       " ',',\n",
       " 'popularly',\n",
       " 'known',\n",
       " 'as',\n",
       " 'NLP',\n",
       " '.',\n",
       " 'You',\n",
       " 'will',\n",
       " 'also',\n",
       " 'learn',\n",
       " 'about',\n",
       " 'the',\n",
       " 'different',\n",
       " 'steps',\n",
       " 'involved',\n",
       " 'in',\n",
       " 'processing',\n",
       " 'the',\n",
       " 'human',\n",
       " 'language',\n",
       " 'like',\n",
       " 'Tokenization',\n",
       " ',',\n",
       " 'Stemming',\n",
       " ',',\n",
       " 'Lemmatization',\n",
       " 'and',\n",
       " 'more',\n",
       " '.',\n",
       " 'Python',\n",
       " ',',\n",
       " 'NLTK',\n",
       " ',',\n",
       " '&',\n",
       " 'Jupyter',\n",
       " 'Notebook',\n",
       " 'are',\n",
       " 'used',\n",
       " 'to',\n",
       " 'demonstrate',\n",
       " 'the',\n",
       " 'concepts']"
      ]
     },
     "execution_count": 21,
     "metadata": {},
     "output_type": "execute_result"
    }
   ],
   "source": [
    "from nltk.util import bigrams, trigrams, ngrams\n",
    "quotes_tokens= nltk.word_tokenize(AI)\n",
    "quotes_tokens\n"
   ]
  },
  {
   "cell_type": "code",
   "execution_count": 22,
   "metadata": {},
   "outputs": [
    {
     "data": {
      "application/javascript": [
       "\n",
       "        if (window._pyforest_update_imports_cell) { window._pyforest_update_imports_cell('import nltk'); }\n",
       "    "
      ],
      "text/plain": [
       "<IPython.core.display.Javascript object>"
      ]
     },
     "metadata": {},
     "output_type": "display_data"
    },
    {
     "data": {
      "text/plain": [
       "[('This', 'video'),\n",
       " ('video', 'will'),\n",
       " ('will', 'provide'),\n",
       " ('provide', 'you'),\n",
       " ('you', 'with'),\n",
       " ('with', 'a'),\n",
       " ('a', 'comprehensive'),\n",
       " ('comprehensive', 'and'),\n",
       " ('and', 'detailed'),\n",
       " ('detailed', 'knowledge'),\n",
       " ('knowledge', 'of'),\n",
       " ('of', 'Natural'),\n",
       " ('Natural', 'Language'),\n",
       " ('Language', 'Processing'),\n",
       " ('Processing', ','),\n",
       " (',', 'popularly'),\n",
       " ('popularly', 'known'),\n",
       " ('known', 'as'),\n",
       " ('as', 'NLP'),\n",
       " ('NLP', '.'),\n",
       " ('.', 'You'),\n",
       " ('You', 'will'),\n",
       " ('will', 'also'),\n",
       " ('also', 'learn'),\n",
       " ('learn', 'about'),\n",
       " ('about', 'the'),\n",
       " ('the', 'different'),\n",
       " ('different', 'steps'),\n",
       " ('steps', 'involved'),\n",
       " ('involved', 'in'),\n",
       " ('in', 'processing'),\n",
       " ('processing', 'the'),\n",
       " ('the', 'human'),\n",
       " ('human', 'language'),\n",
       " ('language', 'like'),\n",
       " ('like', 'Tokenization'),\n",
       " ('Tokenization', ','),\n",
       " (',', 'Stemming'),\n",
       " ('Stemming', ','),\n",
       " (',', 'Lemmatization'),\n",
       " ('Lemmatization', 'and'),\n",
       " ('and', 'more'),\n",
       " ('more', '.'),\n",
       " ('.', 'Python'),\n",
       " ('Python', ','),\n",
       " (',', 'NLTK'),\n",
       " ('NLTK', ','),\n",
       " (',', '&'),\n",
       " ('&', 'Jupyter'),\n",
       " ('Jupyter', 'Notebook'),\n",
       " ('Notebook', 'are'),\n",
       " ('are', 'used'),\n",
       " ('used', 'to'),\n",
       " ('to', 'demonstrate'),\n",
       " ('demonstrate', 'the'),\n",
       " ('the', 'concepts')]"
      ]
     },
     "execution_count": 22,
     "metadata": {},
     "output_type": "execute_result"
    }
   ],
   "source": [
    "quotes_bigrams= list(nltk.bigrams(quotes_tokens))\n",
    "quotes_bigrams"
   ]
  },
  {
   "cell_type": "code",
   "execution_count": 24,
   "metadata": {},
   "outputs": [],
   "source": [
    "from nltk.stem import PorterStemmer\n",
    "pst= PorterStemmer()"
   ]
  },
  {
   "cell_type": "code",
   "execution_count": 25,
   "metadata": {},
   "outputs": [
    {
     "data": {
      "text/plain": [
       "'sing'"
      ]
     },
     "execution_count": 25,
     "metadata": {},
     "output_type": "execute_result"
    }
   ],
   "source": [
    "pst.stem('singing')"
   ]
  },
  {
   "cell_type": "code",
   "execution_count": 31,
   "metadata": {},
   "outputs": [
    {
     "data": {
      "text/plain": [
       "'skip'"
      ]
     },
     "execution_count": 31,
     "metadata": {},
     "output_type": "execute_result"
    }
   ],
   "source": [
    "from nltk.stem import SnowballStemmer\n",
    "sbst=SnowballStemmer('english')\n",
    "sbst.stem('english')\n",
    "sbst.stem(\"skipping\")\n",
    "\n",
    "\n"
   ]
  },
  {
   "cell_type": "code",
   "execution_count": 31,
   "metadata": {},
   "outputs": [
    {
     "data": {
      "text/plain": [
       "'stem'"
      ]
     },
     "execution_count": 31,
     "metadata": {},
     "output_type": "execute_result"
    }
   ],
   "source": [
    "sbst.stem('Stemming')"
   ]
  },
  {
   "cell_type": "code",
   "execution_count": 32,
   "metadata": {},
   "outputs": [],
   "source": [
    "from nltk.stem import wordnet\n",
    "from nltk.stem import WordNetLemmatizer\n",
    "word_len=WordNetLemmatizer()"
   ]
  },
  {
   "cell_type": "code",
   "execution_count": 33,
   "metadata": {},
   "outputs": [
    {
     "data": {
      "text/plain": [
       "'corpus'"
      ]
     },
     "execution_count": 33,
     "metadata": {},
     "output_type": "execute_result"
    }
   ],
   "source": [
    "word_len.lemmatize('corpora')"
   ]
  },
  {
   "cell_type": "code",
   "execution_count": 35,
   "metadata": {},
   "outputs": [],
   "source": [
    "from nltk.corpus import stopwords"
   ]
  },
  {
   "cell_type": "code",
   "execution_count": 95,
   "metadata": {},
   "outputs": [
    {
     "data": {
      "text/plain": [
       "['i',\n",
       " 'me',\n",
       " 'my',\n",
       " 'myself',\n",
       " 'we',\n",
       " 'our',\n",
       " 'ours',\n",
       " 'ourselves',\n",
       " 'you',\n",
       " \"you're\",\n",
       " \"you've\",\n",
       " \"you'll\",\n",
       " \"you'd\",\n",
       " 'your',\n",
       " 'yours',\n",
       " 'yourself',\n",
       " 'yourselves',\n",
       " 'he',\n",
       " 'him',\n",
       " 'his',\n",
       " 'himself',\n",
       " 'she',\n",
       " \"she's\",\n",
       " 'her',\n",
       " 'hers',\n",
       " 'herself',\n",
       " 'it',\n",
       " \"it's\",\n",
       " 'its',\n",
       " 'itself',\n",
       " 'they',\n",
       " 'them',\n",
       " 'their',\n",
       " 'theirs',\n",
       " 'themselves',\n",
       " 'what',\n",
       " 'which',\n",
       " 'who',\n",
       " 'whom',\n",
       " 'this',\n",
       " 'that',\n",
       " \"that'll\",\n",
       " 'these',\n",
       " 'those',\n",
       " 'am',\n",
       " 'is',\n",
       " 'are',\n",
       " 'was',\n",
       " 'were',\n",
       " 'be',\n",
       " 'been',\n",
       " 'being',\n",
       " 'have',\n",
       " 'has',\n",
       " 'had',\n",
       " 'having',\n",
       " 'do',\n",
       " 'does',\n",
       " 'did',\n",
       " 'doing',\n",
       " 'a',\n",
       " 'an',\n",
       " 'the',\n",
       " 'and',\n",
       " 'but',\n",
       " 'if',\n",
       " 'or',\n",
       " 'because',\n",
       " 'as',\n",
       " 'until',\n",
       " 'while',\n",
       " 'of',\n",
       " 'at',\n",
       " 'by',\n",
       " 'for',\n",
       " 'with',\n",
       " 'about',\n",
       " 'against',\n",
       " 'between',\n",
       " 'into',\n",
       " 'through',\n",
       " 'during',\n",
       " 'before',\n",
       " 'after',\n",
       " 'above',\n",
       " 'below',\n",
       " 'to',\n",
       " 'from',\n",
       " 'up',\n",
       " 'down',\n",
       " 'in',\n",
       " 'out',\n",
       " 'on',\n",
       " 'off',\n",
       " 'over',\n",
       " 'under',\n",
       " 'again',\n",
       " 'further',\n",
       " 'then',\n",
       " 'once',\n",
       " 'here',\n",
       " 'there',\n",
       " 'when',\n",
       " 'where',\n",
       " 'why',\n",
       " 'how',\n",
       " 'all',\n",
       " 'any',\n",
       " 'both',\n",
       " 'each',\n",
       " 'few',\n",
       " 'more',\n",
       " 'most',\n",
       " 'other',\n",
       " 'some',\n",
       " 'such',\n",
       " 'no',\n",
       " 'nor',\n",
       " 'not',\n",
       " 'only',\n",
       " 'own',\n",
       " 'same',\n",
       " 'so',\n",
       " 'than',\n",
       " 'too',\n",
       " 'very',\n",
       " 's',\n",
       " 't',\n",
       " 'can',\n",
       " 'will',\n",
       " 'just',\n",
       " 'don',\n",
       " \"don't\",\n",
       " 'should',\n",
       " \"should've\",\n",
       " 'now',\n",
       " 'd',\n",
       " 'll',\n",
       " 'm',\n",
       " 'o',\n",
       " 're',\n",
       " 've',\n",
       " 'y',\n",
       " 'ain',\n",
       " 'aren',\n",
       " \"aren't\",\n",
       " 'couldn',\n",
       " \"couldn't\",\n",
       " 'didn',\n",
       " \"didn't\",\n",
       " 'doesn',\n",
       " \"doesn't\",\n",
       " 'hadn',\n",
       " \"hadn't\",\n",
       " 'hasn',\n",
       " \"hasn't\",\n",
       " 'haven',\n",
       " \"haven't\",\n",
       " 'isn',\n",
       " \"isn't\",\n",
       " 'ma',\n",
       " 'mightn',\n",
       " \"mightn't\",\n",
       " 'mustn',\n",
       " \"mustn't\",\n",
       " 'needn',\n",
       " \"needn't\",\n",
       " 'shan',\n",
       " \"shan't\",\n",
       " 'shouldn',\n",
       " \"shouldn't\",\n",
       " 'wasn',\n",
       " \"wasn't\",\n",
       " 'weren',\n",
       " \"weren't\",\n",
       " 'won',\n",
       " \"won't\",\n",
       " 'wouldn',\n",
       " \"wouldn't\"]"
      ]
     },
     "execution_count": 95,
     "metadata": {},
     "output_type": "execute_result"
    }
   ],
   "source": [
    "stopwords.words('english')"
   ]
  },
  {
   "cell_type": "code",
   "execution_count": 137,
   "metadata": {},
   "outputs": [
    {
     "data": {
      "text/plain": [
       "FreqDist({',': 5, 'the': 3, 'will': 2, 'you': 2, 'and': 2, 'language': 2, 'processing': 2, '.': 2, 'this': 1, 'video': 1, ...})"
      ]
     },
     "execution_count": 137,
     "metadata": {},
     "output_type": "execute_result"
    }
   ],
   "source": [
    "fdist"
   ]
  },
  {
   "cell_type": "code",
   "execution_count": 37,
   "metadata": {},
   "outputs": [],
   "source": [
    "import re\n",
    "punctuation =re.compile(r'[-,?],:;()|0-9]')"
   ]
  },
  {
   "cell_type": "code",
   "execution_count": 38,
   "metadata": {},
   "outputs": [],
   "source": [
    "post_punctuation =[]\n",
    "for words in AI_tokens:\n",
    "      word=punctuation.sub(\"\",words)\n",
    "if len(word)>0:\n",
    "    post_punctuation.append(word)"
   ]
  },
  {
   "cell_type": "code",
   "execution_count": 39,
   "metadata": {},
   "outputs": [
    {
     "data": {
      "text/plain": [
       "['concepts']"
      ]
     },
     "execution_count": 39,
     "metadata": {},
     "output_type": "execute_result"
    }
   ],
   "source": [
    "post_punctuation"
   ]
  },
  {
   "cell_type": "code",
   "execution_count": 96,
   "metadata": {},
   "outputs": [
    {
     "name": "stdout",
     "output_type": "stream",
     "text": [
      "[('This', 'DT')]\n",
      "[('video', 'NN')]\n",
      "[('will', 'MD')]\n",
      "[('provide', 'NN')]\n",
      "[('you', 'PRP')]\n",
      "[('with', 'IN')]\n",
      "[('a', 'DT')]\n",
      "[('comprehensive', 'NN')]\n",
      "[('and', 'CC')]\n",
      "[('detailed', 'JJ')]\n",
      "[('knowledge', 'NN')]\n",
      "[('of', 'IN')]\n",
      "[('Natural', 'JJ')]\n",
      "[('Language', 'NN')]\n",
      "[('Processing', 'VBG')]\n",
      "[(',', ',')]\n",
      "[('popularly', 'RB')]\n",
      "[('known', 'VBN')]\n",
      "[('as', 'IN')]\n",
      "[('NLP', 'NN')]\n",
      "[('.', '.')]\n",
      "[('You', 'PRP')]\n",
      "[('will', 'MD')]\n",
      "[('also', 'RB')]\n",
      "[('learn', 'NN')]\n",
      "[('about', 'IN')]\n",
      "[('the', 'DT')]\n",
      "[('different', 'JJ')]\n",
      "[('steps', 'NNS')]\n",
      "[('involved', 'VBN')]\n",
      "[('in', 'IN')]\n",
      "[('processing', 'NN')]\n",
      "[('the', 'DT')]\n",
      "[('human', 'NN')]\n",
      "[('language', 'NN')]\n",
      "[('like', 'IN')]\n",
      "[('Tokenization', 'NN')]\n",
      "[(',', ',')]\n",
      "[('Stemming', 'VBG')]\n",
      "[(',', ',')]\n",
      "[('Lemmatization', 'NN')]\n",
      "[('and', 'CC')]\n",
      "[('more', 'RBR')]\n",
      "[('.', '.')]\n",
      "[('Python', 'NN')]\n",
      "[(',', ',')]\n",
      "[('NLTK', 'NN')]\n",
      "[(',', ',')]\n",
      "[('&', 'CC')]\n",
      "[('Jupyter', 'NN')]\n",
      "[('Notebook', 'NN')]\n",
      "[('are', 'VBP')]\n",
      "[('used', 'VBN')]\n",
      "[('to', 'TO')]\n",
      "[('demonstrate', 'NN')]\n",
      "[('the', 'DT')]\n",
      "[('concepts', 'NNS')]\n"
     ]
    }
   ],
   "source": [
    "#parts of speech analysis\n",
    "sent_tokens= word_tokenize(AI)\n",
    "for token in sent_tokens:\n",
    "     print(nltk.pos_tag([token]))"
   ]
  },
  {
   "cell_type": "code",
   "execution_count": 35,
   "metadata": {},
   "outputs": [],
   "source": [
    "from nltk import ne_chunk"
   ]
  },
  {
   "cell_type": "code",
   "execution_count": 40,
   "metadata": {},
   "outputs": [
    {
     "data": {
      "application/javascript": [
       "\n",
       "        if (window._pyforest_update_imports_cell) { window._pyforest_update_imports_cell('import nltk'); }\n",
       "    "
      ],
      "text/plain": [
       "<IPython.core.display.Javascript object>"
      ]
     },
     "metadata": {},
     "output_type": "display_data"
    },
    {
     "name": "stdout",
     "output_type": "stream",
     "text": [
      "[('This', 'DT'), ('video', 'NN'), ('will', 'MD'), ('provide', 'VB'), ('you', 'PRP'), ('with', 'IN'), ('a', 'DT'), ('comprehensive', 'JJ'), ('and', 'CC'), ('detailed', 'JJ'), ('knowledge', 'NN'), ('of', 'IN'), ('Natural', 'NNP'), ('Language', 'NNP'), ('Processing', 'NNP'), (',', ','), ('popularly', 'RB'), ('known', 'VBN'), ('as', 'IN'), ('NLP', 'NNP'), ('.', '.'), ('You', 'PRP'), ('will', 'MD'), ('also', 'RB'), ('learn', 'VB'), ('about', 'IN'), ('the', 'DT'), ('different', 'JJ'), ('steps', 'NNS'), ('involved', 'VBN'), ('in', 'IN'), ('processing', 'VBG'), ('the', 'DT'), ('human', 'JJ'), ('language', 'NN'), ('like', 'IN'), ('Tokenization', 'NNP'), (',', ','), ('Stemming', 'NNP'), (',', ','), ('Lemmatization', 'NNP'), ('and', 'CC'), ('more', 'JJR'), ('.', '.'), ('Python', 'NNP'), (',', ','), ('NLTK', 'NNP'), (',', ','), ('&', 'CC'), ('Jupyter', 'NNP'), ('Notebook', 'NNP'), ('are', 'VBP'), ('used', 'VBN'), ('to', 'TO'), ('demonstrate', 'VB'), ('the', 'DT'), ('concepts', 'NNS')]\n"
     ]
    }
   ],
   "source": [
    "ne_tokens= word_tokenize(AI)\n",
    "ne_tags= nltk.pos_tag(ne_tokens)\n",
    "print(ne_tags)"
   ]
  },
  {
   "cell_type": "code",
   "execution_count": 41,
   "metadata": {},
   "outputs": [
    {
     "name": "stdout",
     "output_type": "stream",
     "text": [
      "(S\n",
      "  This/DT\n",
      "  video/NN\n",
      "  will/MD\n",
      "  provide/VB\n",
      "  you/PRP\n",
      "  with/IN\n",
      "  a/DT\n",
      "  comprehensive/JJ\n",
      "  and/CC\n",
      "  detailed/JJ\n",
      "  knowledge/NN\n",
      "  of/IN\n",
      "  (ORGANIZATION Natural/NNP Language/NNP Processing/NNP)\n",
      "  ,/,\n",
      "  popularly/RB\n",
      "  known/VBN\n",
      "  as/IN\n",
      "  (ORGANIZATION NLP/NNP)\n",
      "  ./.\n",
      "  You/PRP\n",
      "  will/MD\n",
      "  also/RB\n",
      "  learn/VB\n",
      "  about/IN\n",
      "  the/DT\n",
      "  different/JJ\n",
      "  steps/NNS\n",
      "  involved/VBN\n",
      "  in/IN\n",
      "  processing/VBG\n",
      "  the/DT\n",
      "  human/JJ\n",
      "  language/NN\n",
      "  like/IN\n",
      "  (GPE Tokenization/NNP)\n",
      "  ,/,\n",
      "  (GPE Stemming/NNP)\n",
      "  ,/,\n",
      "  (GPE Lemmatization/NNP)\n",
      "  and/CC\n",
      "  more/JJR\n",
      "  ./.\n",
      "  (PERSON Python/NNP)\n",
      "  ,/,\n",
      "  (ORGANIZATION NLTK/NNP)\n",
      "  ,/,\n",
      "  &/CC\n",
      "  (PERSON Jupyter/NNP Notebook/NNP)\n",
      "  are/VBP\n",
      "  used/VBN\n",
      "  to/TO\n",
      "  demonstrate/VB\n",
      "  the/DT\n",
      "  concepts/NNS)\n",
      "(S\n",
      "  This/DT\n",
      "  video/NN\n",
      "  will/MD\n",
      "  provide/VB\n",
      "  you/PRP\n",
      "  with/IN\n",
      "  a/DT\n",
      "  comprehensive/JJ\n",
      "  and/CC\n",
      "  detailed/JJ\n",
      "  knowledge/NN\n",
      "  of/IN\n",
      "  (ORGANIZATION Natural/NNP Language/NNP Processing/NNP)\n",
      "  ,/,\n",
      "  popularly/RB\n",
      "  known/VBN\n",
      "  as/IN\n",
      "  (ORGANIZATION NLP/NNP)\n",
      "  ./.\n",
      "  You/PRP\n",
      "  will/MD\n",
      "  also/RB\n",
      "  learn/VB\n",
      "  about/IN\n",
      "  the/DT\n",
      "  different/JJ\n",
      "  steps/NNS\n",
      "  involved/VBN\n",
      "  in/IN\n",
      "  processing/VBG\n",
      "  the/DT\n",
      "  human/JJ\n",
      "  language/NN\n",
      "  like/IN\n",
      "  (GPE Tokenization/NNP)\n",
      "  ,/,\n",
      "  (GPE Stemming/NNP)\n",
      "  ,/,\n",
      "  (GPE Lemmatization/NNP)\n",
      "  and/CC\n",
      "  more/JJR\n",
      "  ./.\n",
      "  (PERSON Python/NNP)\n",
      "  ,/,\n",
      "  (ORGANIZATION NLTK/NNP)\n",
      "  ,/,\n",
      "  &/CC\n",
      "  (PERSON Jupyter/NNP Notebook/NNP)\n",
      "  are/VBP\n",
      "  used/VBN\n",
      "  to/TO\n",
      "  demonstrate/VB\n",
      "  the/DT\n",
      "  concepts/NNS)\n"
     ]
    }
   ],
   "source": [
    "ne_nr= ne_chunk(ne_tags)\n",
    "print(ne_nr)\n",
    "print(ne_nr)\n"
   ]
  },
  {
   "cell_type": "code",
   "execution_count": 44,
   "metadata": {},
   "outputs": [],
   "source": [
    "from sklearn.feature_extraction.text import TfidfVectorizer\n"
   ]
  },
  {
   "cell_type": "code",
   "execution_count": 55,
   "metadata": {},
   "outputs": [
    {
     "data": {
      "text/html": [
       "<div>\n",
       "<style scoped>\n",
       "    .dataframe tbody tr th:only-of-type {\n",
       "        vertical-align: middle;\n",
       "    }\n",
       "\n",
       "    .dataframe tbody tr th {\n",
       "        vertical-align: top;\n",
       "    }\n",
       "\n",
       "    .dataframe thead th {\n",
       "        text-align: right;\n",
       "    }\n",
       "</style>\n",
       "<table border=\"1\" class=\"dataframe\">\n",
       "  <thead>\n",
       "    <tr style=\"text-align: right;\">\n",
       "      <th></th>\n",
       "      <th>tfidf</th>\n",
       "    </tr>\n",
       "  </thead>\n",
       "  <tbody>\n",
       "    <tr>\n",
       "      <th>about</th>\n",
       "      <td>0.125</td>\n",
       "    </tr>\n",
       "    <tr>\n",
       "      <th>also</th>\n",
       "      <td>0.125</td>\n",
       "    </tr>\n",
       "    <tr>\n",
       "      <th>and</th>\n",
       "      <td>0.250</td>\n",
       "    </tr>\n",
       "    <tr>\n",
       "      <th>are</th>\n",
       "      <td>0.125</td>\n",
       "    </tr>\n",
       "    <tr>\n",
       "      <th>as</th>\n",
       "      <td>0.125</td>\n",
       "    </tr>\n",
       "    <tr>\n",
       "      <th>comprehensive</th>\n",
       "      <td>0.125</td>\n",
       "    </tr>\n",
       "    <tr>\n",
       "      <th>concepts</th>\n",
       "      <td>0.125</td>\n",
       "    </tr>\n",
       "    <tr>\n",
       "      <th>demonstrate</th>\n",
       "      <td>0.125</td>\n",
       "    </tr>\n",
       "    <tr>\n",
       "      <th>detailed</th>\n",
       "      <td>0.125</td>\n",
       "    </tr>\n",
       "    <tr>\n",
       "      <th>different</th>\n",
       "      <td>0.125</td>\n",
       "    </tr>\n",
       "    <tr>\n",
       "      <th>human</th>\n",
       "      <td>0.125</td>\n",
       "    </tr>\n",
       "    <tr>\n",
       "      <th>in</th>\n",
       "      <td>0.125</td>\n",
       "    </tr>\n",
       "    <tr>\n",
       "      <th>involved</th>\n",
       "      <td>0.125</td>\n",
       "    </tr>\n",
       "    <tr>\n",
       "      <th>jupyter</th>\n",
       "      <td>0.125</td>\n",
       "    </tr>\n",
       "    <tr>\n",
       "      <th>knowledge</th>\n",
       "      <td>0.125</td>\n",
       "    </tr>\n",
       "    <tr>\n",
       "      <th>known</th>\n",
       "      <td>0.125</td>\n",
       "    </tr>\n",
       "    <tr>\n",
       "      <th>language</th>\n",
       "      <td>0.250</td>\n",
       "    </tr>\n",
       "    <tr>\n",
       "      <th>learn</th>\n",
       "      <td>0.125</td>\n",
       "    </tr>\n",
       "    <tr>\n",
       "      <th>lemmatization</th>\n",
       "      <td>0.125</td>\n",
       "    </tr>\n",
       "    <tr>\n",
       "      <th>like</th>\n",
       "      <td>0.125</td>\n",
       "    </tr>\n",
       "    <tr>\n",
       "      <th>more</th>\n",
       "      <td>0.125</td>\n",
       "    </tr>\n",
       "    <tr>\n",
       "      <th>natural</th>\n",
       "      <td>0.125</td>\n",
       "    </tr>\n",
       "    <tr>\n",
       "      <th>nlp</th>\n",
       "      <td>0.125</td>\n",
       "    </tr>\n",
       "    <tr>\n",
       "      <th>nltk</th>\n",
       "      <td>0.125</td>\n",
       "    </tr>\n",
       "    <tr>\n",
       "      <th>notebook</th>\n",
       "      <td>0.125</td>\n",
       "    </tr>\n",
       "    <tr>\n",
       "      <th>of</th>\n",
       "      <td>0.125</td>\n",
       "    </tr>\n",
       "    <tr>\n",
       "      <th>popularly</th>\n",
       "      <td>0.125</td>\n",
       "    </tr>\n",
       "    <tr>\n",
       "      <th>processing</th>\n",
       "      <td>0.250</td>\n",
       "    </tr>\n",
       "    <tr>\n",
       "      <th>provide</th>\n",
       "      <td>0.125</td>\n",
       "    </tr>\n",
       "    <tr>\n",
       "      <th>python</th>\n",
       "      <td>0.125</td>\n",
       "    </tr>\n",
       "    <tr>\n",
       "      <th>stemming</th>\n",
       "      <td>0.125</td>\n",
       "    </tr>\n",
       "    <tr>\n",
       "      <th>steps</th>\n",
       "      <td>0.125</td>\n",
       "    </tr>\n",
       "    <tr>\n",
       "      <th>the</th>\n",
       "      <td>0.375</td>\n",
       "    </tr>\n",
       "    <tr>\n",
       "      <th>this</th>\n",
       "      <td>0.125</td>\n",
       "    </tr>\n",
       "    <tr>\n",
       "      <th>to</th>\n",
       "      <td>0.125</td>\n",
       "    </tr>\n",
       "    <tr>\n",
       "      <th>tokenization</th>\n",
       "      <td>0.125</td>\n",
       "    </tr>\n",
       "    <tr>\n",
       "      <th>used</th>\n",
       "      <td>0.125</td>\n",
       "    </tr>\n",
       "    <tr>\n",
       "      <th>video</th>\n",
       "      <td>0.125</td>\n",
       "    </tr>\n",
       "    <tr>\n",
       "      <th>will</th>\n",
       "      <td>0.250</td>\n",
       "    </tr>\n",
       "    <tr>\n",
       "      <th>with</th>\n",
       "      <td>0.125</td>\n",
       "    </tr>\n",
       "    <tr>\n",
       "      <th>you</th>\n",
       "      <td>0.250</td>\n",
       "    </tr>\n",
       "  </tbody>\n",
       "</table>\n",
       "</div>"
      ],
      "text/plain": [
       "               tfidf\n",
       "about          0.125\n",
       "also           0.125\n",
       "and            0.250\n",
       "are            0.125\n",
       "as             0.125\n",
       "comprehensive  0.125\n",
       "concepts       0.125\n",
       "demonstrate    0.125\n",
       "detailed       0.125\n",
       "different      0.125\n",
       "human          0.125\n",
       "in             0.125\n",
       "involved       0.125\n",
       "jupyter        0.125\n",
       "knowledge      0.125\n",
       "known          0.125\n",
       "language       0.250\n",
       "learn          0.125\n",
       "lemmatization  0.125\n",
       "like           0.125\n",
       "more           0.125\n",
       "natural        0.125\n",
       "nlp            0.125\n",
       "nltk           0.125\n",
       "notebook       0.125\n",
       "of             0.125\n",
       "popularly      0.125\n",
       "processing     0.250\n",
       "provide        0.125\n",
       "python         0.125\n",
       "stemming       0.125\n",
       "steps          0.125\n",
       "the            0.375\n",
       "this           0.125\n",
       "to             0.125\n",
       "tokenization   0.125\n",
       "used           0.125\n",
       "video          0.125\n",
       "will           0.250\n",
       "with           0.125\n",
       "you            0.250"
      ]
     },
     "execution_count": 55,
     "metadata": {},
     "output_type": "execute_result"
    }
   ],
   "source": [
    "vectorizer = TfidfVectorizer()\n",
    "response = vectorizer.fit_transform([AI])\n",
    "first_vector_tfidfvectorizer=response[0]\n",
    "import pandas as pd\n",
    "df = pd.DataFrame(first_vector_tfidfvectorizer.T.todense(), index=vectorizer.get_feature_names(), columns=[\"tfidf\"])\n",
    "df.sort_values(by=[\"tfidf\"],ascending=False)\n",
    "df"
   ]
  },
  {
   "cell_type": "code",
   "execution_count": 47,
   "metadata": {},
   "outputs": [
    {
     "name": "stdout",
     "output_type": "stream",
     "text": [
      "  (0, 33)\t0.125\n",
      "  (0, 37)\t0.125\n",
      "  (0, 38)\t0.25\n",
      "  (0, 28)\t0.125\n",
      "  (0, 40)\t0.25\n",
      "  (0, 39)\t0.125\n",
      "  (0, 5)\t0.125\n",
      "  (0, 2)\t0.25\n",
      "  (0, 8)\t0.125\n",
      "  (0, 14)\t0.125\n",
      "  (0, 25)\t0.125\n",
      "  (0, 21)\t0.125\n",
      "  (0, 16)\t0.25\n",
      "  (0, 27)\t0.25\n",
      "  (0, 26)\t0.125\n",
      "  (0, 15)\t0.125\n",
      "  (0, 4)\t0.125\n",
      "  (0, 22)\t0.125\n",
      "  (0, 1)\t0.125\n",
      "  (0, 17)\t0.125\n",
      "  (0, 0)\t0.125\n",
      "  (0, 32)\t0.375\n",
      "  (0, 9)\t0.125\n",
      "  (0, 31)\t0.125\n",
      "  (0, 12)\t0.125\n",
      "  (0, 11)\t0.125\n",
      "  (0, 10)\t0.125\n",
      "  (0, 19)\t0.125\n",
      "  (0, 35)\t0.125\n",
      "  (0, 30)\t0.125\n",
      "  (0, 18)\t0.125\n",
      "  (0, 20)\t0.125\n",
      "  (0, 29)\t0.125\n",
      "  (0, 23)\t0.125\n",
      "  (0, 13)\t0.125\n",
      "  (0, 24)\t0.125\n",
      "  (0, 3)\t0.125\n",
      "  (0, 36)\t0.125\n",
      "  (0, 34)\t0.125\n",
      "  (0, 7)\t0.125\n",
      "  (0, 6)\t0.125 This video will provide you with a comprehensive and detailed knowledge of Natural Language Processing, popularly known as NLP. You will also learn about the different steps involved in processing the human language like Tokenization, Stemming, Lemmatization and more. Python, NLTK, & Jupyter Notebook are used to demonstrate the concepts\n",
      "  (0, 33)\t0.125\n",
      "  (0, 37)\t0.125\n",
      "  (0, 38)\t0.25\n",
      "  (0, 28)\t0.125\n",
      "  (0, 40)\t0.25\n",
      "  (0, 39)\t0.125\n",
      "  (0, 5)\t0.125\n",
      "  (0, 2)\t0.25\n",
      "  (0, 8)\t0.125\n",
      "  (0, 14)\t0.125\n",
      "  (0, 25)\t0.125\n",
      "  (0, 21)\t0.125\n",
      "  (0, 16)\t0.25\n",
      "  (0, 27)\t0.25\n",
      "  (0, 26)\t0.125\n",
      "  (0, 15)\t0.125\n",
      "  (0, 4)\t0.125\n",
      "  (0, 22)\t0.125\n",
      "  (0, 1)\t0.125\n",
      "  (0, 17)\t0.125\n",
      "  (0, 0)\t0.125\n",
      "  (0, 32)\t0.375\n",
      "  (0, 9)\t0.125\n",
      "  (0, 31)\t0.125\n",
      "  (0, 12)\t0.125\n",
      "  (0, 11)\t0.125\n",
      "  (0, 10)\t0.125\n",
      "  (0, 19)\t0.125\n",
      "  (0, 35)\t0.125\n",
      "  (0, 30)\t0.125\n",
      "  (0, 18)\t0.125\n",
      "  (0, 20)\t0.125\n",
      "  (0, 29)\t0.125\n",
      "  (0, 23)\t0.125\n",
      "  (0, 13)\t0.125\n",
      "  (0, 24)\t0.125\n",
      "  (0, 3)\t0.125\n",
      "  (0, 36)\t0.125\n",
      "  (0, 34)\t0.125\n",
      "  (0, 7)\t0.125\n",
      "  (0, 6)\t0.125 <FreqDist with 45 samples and 57 outcomes>\n"
     ]
    }
   ],
   "source": []
  },
  {
   "cell_type": "code",
   "execution_count": 43,
   "metadata": {},
   "outputs": [
    {
     "data": {
      "text/plain": [
       "'this text'"
      ]
     },
     "execution_count": 43,
     "metadata": {},
     "output_type": "execute_result"
    }
   ],
   "source": [
    "# Sample code to remove noisy words from a text\n",
    "\n",
    "noise_list = [\"is\", \"a\", \"sample\", \"...\"] \n",
    "def _remove_noise(input_text):\n",
    "    words = input_text.split() \n",
    "    noise_free_words = [word for word in words if word not in noise_list] \n",
    "    noise_free_text = \" \".join(noise_free_words) \n",
    "    return noise_free_text\n",
    "\n",
    "_remove_noise(\"this is a sample text\")"
   ]
  },
  {
   "cell_type": "code",
   "execution_count": 44,
   "metadata": {},
   "outputs": [
    {
     "data": {
      "text/plain": [
       "'remove this  from analytics'"
      ]
     },
     "execution_count": 44,
     "metadata": {},
     "output_type": "execute_result"
    }
   ],
   "source": [
    "# Sample code to remove a regex pattern \n",
    "import re \n",
    "\n",
    "def _remove_regex(input_text, regex_pattern):\n",
    "    urls = re.finditer(regex_pattern, input_text) \n",
    "    for i in urls: \n",
    "        input_text = re.sub(i.group().strip(), '', input_text)\n",
    "    return input_text\n",
    "\n",
    "regex_pattern = \"#[\\w]*\"  \n",
    "\n",
    "_remove_regex(\"remove this #hashtag from analytics\", regex_pattern)\n"
   ]
  },
  {
   "cell_type": "code",
   "execution_count": 147,
   "metadata": {},
   "outputs": [
    {
     "ename": "SyntaxError",
     "evalue": "can't assign to function call (<ipython-input-147-0d9693dd11ed>, line 8)",
     "output_type": "error",
     "traceback": [
      "\u001b[1;36m  File \u001b[1;32m\"<ipython-input-147-0d9693dd11ed>\"\u001b[1;36m, line \u001b[1;32m8\u001b[0m\n\u001b[1;33m    new_text.append(word) = (\" \").join(new_words)\u001b[0m\n\u001b[1;37m    ^\u001b[0m\n\u001b[1;31mSyntaxError\u001b[0m\u001b[1;31m:\u001b[0m can't assign to function call\n"
     ]
    }
   ],
   "source": []
  },
  {
   "cell_type": "code",
   "execution_count": 60,
   "metadata": {},
   "outputs": [
    {
     "name": "stdout",
     "output_type": "stream",
     "text": [
      "[(0, '0.089*\"to\" + 0.051*\"my\" + 0.051*\"My\" + 0.051*\"sister\" + 0.051*\"Sugar\" + 0.051*\"but\" + 0.051*\"sugar,\" + 0.051*\"is\" + 0.051*\"not\" + 0.051*\"likes\"'), (1, '0.060*\"driving\" + 0.060*\"increased\" + 0.060*\"and\" + 0.060*\"cause\" + 0.060*\"may\" + 0.060*\"that\" + 0.060*\"suggest\" + 0.060*\"pressure.\" + 0.060*\"stress\" + 0.060*\"blood\"'), (2, '0.053*\"driving\" + 0.053*\"sister\" + 0.053*\"my\" + 0.053*\"My\" + 0.053*\"father\" + 0.053*\"around\" + 0.053*\"a\" + 0.053*\"time\" + 0.053*\"spends\" + 0.053*\"lot\"')]\n"
     ]
    }
   ],
   "source": [
    "doc1 = \"Sugar is bad to consume. My sister likes to have sugar, but not my father.\" \n",
    "doc2 = \"My father spends a lot of time driving my sister around to dance practice.\"\n",
    "doc3 = \"Doctors suggest that driving may cause increased stress and blood pressure.\"\n",
    "doc_complete = [doc1, doc2, doc3]\n",
    "doc_clean = [doc.split() for doc in doc_complete]\n",
    "\n",
    "import gensim \n",
    "from gensim import corpora\n",
    "\n",
    "# Creating the term dictionary of our corpus, where every unique term is assigned an index.  \n",
    "dictionary = corpora.Dictionary(doc_clean)\n",
    "\n",
    "# Converting list of documents (corpus) into Document Term Matrix using dictionary prepared above. \n",
    "doc_term_matrix = [dictionary.doc2bow(doc) for doc in doc_clean]\n",
    "\n",
    "# Creating the object for LDA model using gensim library\n",
    "Lda = gensim.models.ldamodel.LdaModel\n",
    "\n",
    "# Running and Training LDA model on the document term matrix\n",
    "ldamodel = Lda(doc_term_matrix, num_topics=3, id2word = dictionary, passes=50)\n",
    "\n",
    "# Results \n",
    "print(ldamodel.print_topics())"
   ]
  },
  {
   "cell_type": "code",
   "execution_count": 45,
   "metadata": {},
   "outputs": [
    {
     "name": "stderr",
     "output_type": "stream",
     "text": [
      "C:\\Users\\varun\\Anacond\\lib\\site-packages\\gensim\\models\\base_any2vec.py:743: UserWarning: C extension not loaded, training will be slow. Install a C compiler and reinstall gensim for fast training.\n",
      "  \"C extension not loaded, training will be slow. \"\n",
      "C:\\Users\\varun\\Anacond\\lib\\site-packages\\ipykernel_launcher.py:4: DeprecationWarning: Call to deprecated `similarity` (Method will be removed in 4.0.0, use self.wv.similarity() instead).\n",
      "  after removing the cwd from sys.path.\n"
     ]
    },
    {
     "name": "stdout",
     "output_type": "stream",
     "text": [
      "0.119296074\n"
     ]
    }
   ],
   "source": [
    "from gensim.models import Word2Vec\n",
    "sentences = [['data', 'science'], ['Aidhya', 'science', 'data', 'analytics'],['machine', 'learning'], ['deep', 'learning']]\n",
    "model = Word2Vec(sentences, min_count = 1)\n",
    "print (model.similarity('data', 'science'))\n",
    "\n"
   ]
  },
  {
   "cell_type": "code",
   "execution_count": 46,
   "metadata": {},
   "outputs": [
    {
     "name": "stdout",
     "output_type": "stream",
     "text": [
      "Class_A\n",
      "Class_B\n",
      "0.8333333333333334\n"
     ]
    }
   ],
   "source": [
    "from textblob.classifiers import NaiveBayesClassifier as NBC\n",
    "from textblob import TextBlob\n",
    "training_corpus = [\n",
    "                   ('I am exhausted of this work.', 'Class_B'),\n",
    "                   (\"I can't cooperate with this\", 'Class_B'),\n",
    "                   ('He is my badest enemy!', 'Class_B'),\n",
    "                   ('My management is poor.', 'Class_B'),\n",
    "                   ('I love this burger.', 'Class_A'),\n",
    "                   ('This is an brilliant place!', 'Class_A'),\n",
    "                   ('I feel very good about these dates.', 'Class_A'),\n",
    "                   ('This is my best work.', 'Class_A'),\n",
    "                   (\"What an awesome view\", 'Class_A'),\n",
    "                   ('I do not like this dish', 'Class_B')]\n",
    "test_corpus = [\n",
    "                (\"I am not feeling well today.\", 'Class_B'), \n",
    "                (\"I feel brilliant!\", 'Class_A'), \n",
    "                ('Gary is a friend of mine.', 'Class_A'), \n",
    "                (\"I can't believe I'm doing this.\", 'Class_B'), \n",
    "                ('The date was good.', 'Class_A'), ('I do not enjoy my job', 'Class_B')]\n",
    "\n",
    "model = NBC(training_corpus) \n",
    "print(model.classify(\"Their codes are amazing.\"))\n",
    "print(model.classify(\"I don't like their computer.\"))\n",
    "print(model.accuracy(test_corpus))"
   ]
  },
  {
   "cell_type": "code",
   "execution_count": 63,
   "metadata": {},
   "outputs": [],
   "source": [
    "from sklearn.feature_extraction.text import TfidfVectorizer \n",
    "from sklearn.metrics import classification_report\n",
    "from sklearn import svm "
   ]
  },
  {
   "cell_type": "code",
   "execution_count": 64,
   "metadata": {},
   "outputs": [],
   "source": [
    "training_corpus = [\n",
    "                   ('I am exhausted of this work.', 'Class_B'),\n",
    "                   (\"I can't cooperate with this\", 'Class_B'),\n",
    "                   ('He is my badest enemy!', 'Class_B'),\n",
    "                   ('My management is poor.', 'Class_B'),\n",
    "                   ('I love this burger.', 'Class_A'),\n",
    "                   ('This is an brilliant place!', 'Class_A'),\n",
    "                   ('I feel very good about these dates.', 'Class_A'),\n",
    "                   ('This is my best work.', 'Class_A'),\n",
    "                   (\"What an awesome view\", 'Class_A'),\n",
    "                   ('I do not like this dish', 'Class_B')]"
   ]
  },
  {
   "cell_type": "code",
   "execution_count": 65,
   "metadata": {},
   "outputs": [],
   "source": [
    "test_corpus = [\n",
    "                (\"I am not feeling well today.\", 'Class_B'), \n",
    "                (\"I feel brilliant!\", 'Class_A'), \n",
    "                ('Gary is a friend of mine.', 'Class_A'), \n",
    "                (\"I can't believe I'm doing this.\", 'Class_B'), \n",
    "                ('The date was good.', 'Class_A'), ('I do not enjoy my job', 'Class_B')]"
   ]
  },
  {
   "cell_type": "code",
   "execution_count": 66,
   "metadata": {},
   "outputs": [],
   "source": [
    "train_data = []\n",
    "train_labels = []\n",
    "for row in training_corpus:\n",
    "    train_data.append(row[0])\n",
    "    train_labels.append(row[1])"
   ]
  },
  {
   "cell_type": "code",
   "execution_count": 67,
   "metadata": {},
   "outputs": [],
   "source": [
    "test_data = [] \n",
    "test_labels = [] \n",
    "for row in test_corpus:\n",
    "    test_data.append(row[0]) \n",
    "    test_labels.append(row[1])"
   ]
  },
  {
   "cell_type": "code",
   "execution_count": 68,
   "metadata": {},
   "outputs": [],
   "source": [
    "# Create feature vectors \n",
    "vectorizer = TfidfVectorizer(min_df=4, max_df=0.9)\n",
    "# Train the feature vectors\n",
    "train_vectors = vectorizer.fit_transform(train_data)\n",
    "# Apply model on test data \n",
    "test_vectors = vectorizer.transform(test_data)\n",
    "\n",
    "# Perform classification with SVM, kernel=linear \n",
    "model = svm.SVC(kernel='linear') \n",
    "model.fit(train_vectors, train_labels) \n",
    "prediction = model.predict(test_vectors)"
   ]
  },
  {
   "cell_type": "code",
   "execution_count": 157,
   "metadata": {},
   "outputs": [
    {
     "data": {
      "text/plain": [
       "array(['Class_A', 'Class_A', 'Class_B', 'Class_B', 'Class_A', 'Class_A'],\n",
       "      dtype='<U7')"
      ]
     },
     "execution_count": 157,
     "metadata": {},
     "output_type": "execute_result"
    }
   ],
   "source": [
    "prediction"
   ]
  },
  {
   "cell_type": "code",
   "execution_count": 69,
   "metadata": {},
   "outputs": [
    {
     "name": "stdout",
     "output_type": "stream",
     "text": [
      "              precision    recall  f1-score   support\n",
      "\n",
      "     Class_A       0.50      0.67      0.57         3\n",
      "     Class_B       0.50      0.33      0.40         3\n",
      "\n",
      "    accuracy                           0.50         6\n",
      "   macro avg       0.50      0.50      0.49         6\n",
      "weighted avg       0.50      0.50      0.49         6\n",
      "\n"
     ]
    }
   ],
   "source": [
    "print (classification_report(test_labels, prediction))"
   ]
  },
  {
   "cell_type": "code",
   "execution_count": 71,
   "metadata": {},
   "outputs": [
    {
     "ename": "ModuleNotFoundError",
     "evalue": "No module named 'fuzzy'",
     "output_type": "error",
     "traceback": [
      "\u001b[1;31m---------------------------------------------------------------------------\u001b[0m",
      "\u001b[1;31mModuleNotFoundError\u001b[0m                       Traceback (most recent call last)",
      "\u001b[1;32m<ipython-input-71-731739cd68be>\u001b[0m in \u001b[0;36m<module>\u001b[1;34m\u001b[0m\n\u001b[1;32m----> 1\u001b[1;33m \u001b[1;32mimport\u001b[0m \u001b[0mfuzzy\u001b[0m\u001b[1;33m\u001b[0m\u001b[1;33m\u001b[0m\u001b[0m\n\u001b[0m\u001b[0;32m      2\u001b[0m \u001b[0msoundex\u001b[0m \u001b[1;33m=\u001b[0m \u001b[0mfuzzy\u001b[0m\u001b[1;33m.\u001b[0m\u001b[0mSoundex\u001b[0m\u001b[1;33m(\u001b[0m\u001b[1;36m4\u001b[0m\u001b[1;33m)\u001b[0m\u001b[1;33m\u001b[0m\u001b[1;33m\u001b[0m\u001b[0m\n\u001b[0;32m      3\u001b[0m \u001b[0msoundex\u001b[0m\u001b[1;33m\u001b[0m\u001b[1;33m\u001b[0m\u001b[0m\n",
      "\u001b[1;31mModuleNotFoundError\u001b[0m: No module named 'fuzzy'"
     ]
    }
   ],
   "source": []
  },
  {
   "cell_type": "code",
   "execution_count": 72,
   "metadata": {},
   "outputs": [],
   "source": [
    "import math\n",
    "from collections import Counter\n",
    "def get_cosine(vec1, vec2):\n",
    "    common = set(vec1.keys()) & set(vec2.keys())\n",
    "    numerator = sum([vec1[x] * vec2[x] for x in common])\n",
    "\n",
    "    sum1 = sum([vec1[x]**2 for x in vec1.keys()]) \n",
    "    sum2 = sum([vec2[x]**2 for x in vec2.keys()]) \n",
    "    denominator = math.sqrt(sum1) * math.sqrt(sum2)\n",
    "   \n",
    "    if not denominator:\n",
    "        return 0.0 \n",
    "    else:\n",
    "        return float(numerator) / denominator\n",
    "\n",
    "def text_to_vector(text): \n",
    "    words = text.split() \n",
    "    return Counter(words)\n",
    "\n",
    "text1 = 'This is an article on analytics website ' \n",
    "text2 = 'article on analytics website is about natural language processing'\n",
    "\n",
    "vector1 = text_to_vector(text1) \n",
    "vector2 = text_to_vector(text2) \n",
    "cosine = get_cosine(vector1, vector2)"
   ]
  },
  {
   "cell_type": "code",
   "execution_count": 73,
   "metadata": {},
   "outputs": [
    {
     "data": {
      "text/plain": [
       "0.629940788348712"
      ]
     },
     "execution_count": 73,
     "metadata": {},
     "output_type": "execute_result"
    }
   ],
   "source": [
    "cosine"
   ]
  },
  {
   "cell_type": "code",
   "execution_count": 47,
   "metadata": {},
   "outputs": [
    {
     "name": "stdout",
     "output_type": "stream",
     "text": [
      "1\n"
     ]
    }
   ],
   "source": [
    "def levenshtein(s1,s2): \n",
    "    if len(s1) > len(s2):\n",
    "        s1,s2 = s2,s1 \n",
    "    distances = range(len(s1) + 1) \n",
    "    for index2,char2 in enumerate(s2):\n",
    "        newDistances = [index2+1]\n",
    "        for index1,char1 in enumerate(s1):\n",
    "            if char1 == char2:\n",
    "                newDistances.append(distances[index1]) \n",
    "            else:\n",
    "                 newDistances.append(1 + min((distances[index1], distances[index1+1], newDistances[-1]))) \n",
    "        distances = newDistances \n",
    "    return distances[-1]\n",
    "\n",
    "print(levenshtein(\"analyze\",\"analyse\"))"
   ]
  },
  {
   "cell_type": "code",
   "execution_count": 3,
   "metadata": {},
   "outputs": [
    {
     "data": {
      "image/png": "[encoded data removed]",
      "text/plain": [
       "<Figure size 432x288 with 1 Axes>"
      ]
     },
     "metadata": {
      "needs_background": "light"
     },
     "output_type": "display_data"
    }
   ],
   "source": [
    "import pandas as pd\n",
    "import numpy as np\n",
    "import matplotlib.pyplot as plt\n",
    "from wordcloud import WordCloud\n",
    "text = \"This video will provide you with a comprehensive and detailed knowledge of Natural Language Processing, popularly known as NLP. You will also learn about the different steps involved in processing the human language like Tokenization, Stemming, Lemmatization and more. Python, NLTK, & Jupyter Notebook are used to demonstrate the concepts\"\n",
    "wc = WordCloud(background_color=\"white\", repeat=True)\n",
    "wc.generate(text)\n",
    "plt.axis(\"off\")\n",
    "plt.imshow(wc, interpolation=\"bilinear\")\n",
    "plt.show()\n"
   ]
  },
  {
   "cell_type": "code",
   "execution_count": 8,
   "metadata": {},
   "outputs": [],
   "source": [
    "import numpy as np\n",
    "from PIL import Image\n",
    "import matplotlib.pyplot as plt\n",
    "from wordcloud import WordCloud, STOPWORDS\n",
    "%matplotlib inline\n"
   ]
  },
  {
   "cell_type": "code",
   "execution_count": 10,
   "metadata": {},
   "outputs": [],
   "source": [
    "sent = [\"\"\"\"My dear countrymen,\n",
    "Today, all Indians in the country and also abroad are celebrating the festival of independence. On this day of sacred festival of independence, the prime servant of India extends greetings to all dear countrymen.\n",
    "I am present amidst you not as the Prime Minister, but as the Prime Servant. The freedom struggle was fought for so many years, so many generations laid down their lives, innumerable people sacrificed their lives and youth, spent their entire lives behind bars. Today, I pay my respect, greetings and homage to all those who laid their lives for the country`s independence.\n",
    "\n",
    "I also pay my respects to the crores of citizens of this country on the pious occasion of India's independence, and recall all those martyrs who had laid down their lives in India's struggle for freedom. The day of Independence is a festival when we take a solemn pledge of working for the welfare of mother India, and also for the welfare of the poor, oppressed, Dalits, the exploited & the backward people of our country.\n",
    "My dear countrymen, a national festival is an occasion to refine and rebuild the national character. This National festival inspires us to resolve ourselves to lead a life where our character gets refined further, to dedicate ourselves to the nation and our every activity is linked to the interest of the nation and only then this festival of freedom can be a festival of inspiration to take India to newer heights.\n",
    "My dear countrymen, this nation has neither been built by political leaders nor by rulers nor by governments.\n",
    "This nation has been built by our farmers, our workers, our mothers and sisters, our youth. The country has reached here today because of generation to generation rigours undertaken by our sages, our saints, our maestros, our teachers, our scientists and social workers. These great people and these great generations, who had worked for the country throughout their lives, deserve our deepest respect.\n",
    "This is the beauty of India's Constitution, this is its capability which has made it possible that today a boy from small town, a poor family has got the opportunity to pay homage to the Tricolour of India at the ramparts of Lal Quila (Red Fort). This is the strength of India's democracy. This is an invaluable legacy which we have inherited from our architects of the Constitution. I pay my respects to those architects of the constitution of India today.\n",
    "\n",
    "PM Narendra Modi with kids\n",
    "Brothers and sisters, today if we have reached here after independence, it is because of the contribution of all the Prime Ministers, all the governments and even the governments of all the States. I want to express my feelings of respect and gratitude to all those previous governments and ex-Prime Ministers who have endeavoured to take our present day India to such heights and who have added to the country's glory.\n",
    "This country has been built on such foundation of ancient cultural heritage, where we were told of only one mantra during Vedic period, which is indicative of our work culture, which we have learnt, we have memorized - \"Sangachchhdhvam Samvadadhvam sam wo manansi jaanataam.\" We walk together, we move together, we think together, we resolve together and together we take this country forward.\n",
    "\n",
    "PM Narendra Modi at Red Fort\n",
    "Having imbibed this basic mantra, 125 crore countrymen have taken the nation forward. Yesterday only the first Parliamentary Session of the new government had concluded.\n",
    "Today, I can proudly say that the session of Parliament reflects our thinking and it is a reflection of our intentions. We are not for moving forward on the basis of majority, we are not interested to move forward by virtue of majority. We want to move ahead on the basis of strong consensus. \"Sangachhadhwam\" and, therefore, the nation has witnessed the entire session of Parliament.\n",
    "Having taken all the Parties and Opposition along while working shoulder to shoulder, we achieved an unprecedented success and the credit for this does not go to the Prime Minister alone, the credit does not go to the people sitting in the government, the credit for this goes to the Opposition also, the credit goes to all the leaders of Opposition too and also all the Members from Opposition.\n",
    "From the ramparts of Red Fort, quite proudly I salute all the Members of Parliament, I also salute all the political parties and by virtue of their strong support, we could take some important decisions intended to take the nation forward and yesterday the Session of Parliament had concluded.\n",
    "Brothers and sisters, I am an outsider for Delhi; I am not a native of Delhi. I have no idea about the administration and working of this place. I have been quite isolated from the elite class of this place but during the last two months while being an outsider, I had an insider view and I was astonished. It is not a political platform, rather it is a platform of a national policy and, therefore, my views should not be evaluated from a political perspective.\n",
    "\n",
    "PM Narendra Modi\n",
    "I have already said, I salute all the ex-Prime Ministers and earlier governments who have brought the country thus far. But I am going to say something else and it may not be seen from political point of view. When I came to Delhi and noticed an insider view, I felt what it was and I was surprised to see it. It seemed as if dozens of separate governments are running at the same time in one main government. It appeared that everyone has its own fiefdom. I could observe disunity and conflict among them. One department is taking on the other department and taking on to the extent that two departments of the same government are fighting against each other by approaching Supreme Court. This disunity, this conflict among people of the same country! How come we can take the country forward? And that is why I have started making efforts for razing those walls; I have started making efforts at making the government,  not an assembled entity, but an organic unity, an organic entity, a harmonious whole- with one aim, one mind, one direction, one energy.\n",
    "Let's resolve to steer the country to one destination. We have it in us to move in that direction. A few days back...Nowadays newspapers are full of news that Modi-ji's government has come, officers are reaching office on time, offices open in time, and people get there in time. I observed that India's national newspapers, TV media were carrying these news items prominently.\n",
    "As the head of the government I could have derived pleasure in the fact that everything started going on time, cleanliness got the attention, but I was not taking pleasure, I was feeling pained. That thing, I want to tell today in public. And why, because if government officers arrive office in time, does that make a news? And if that makes news, it shows how low we have fallen. It becomes a proof of that, and that's how, brothers and sisters, the governments have run? Today in the face of global competition, when we have to realise the dreams of millions of Indians, the country cannot run on the lines of \"it happens\", \"it goes\".\n",
    "In order to fulfill the aspirations of masses, we have to sharpen the tool called the government machinery, we have to make it keen, more dynamic, and it is in this direction that we are working.\n",
    "My countrymen, it's not long since I have come from outside Delhi, but I give you an assurance that the people in the government are very capable - from the peon to the Cabinet Secretary, everybody is capable, everybody has a power, they have experience. I want to awaken that power, I want to unite that power and want to accelerate the pace of the welfare of nation through that power and I shall definitely do it. I want to assure the countrymen that we will achieve that, we will definitely do that. I could not say this on 16th May, but today after my experience of two-two and half months, keeping the Tricolour as witness, I am saying on 15th of August that it is possible, it will be achieved.\n",
    "Brothers and sisters, time has come to give a serious thought to the fact that whether we have a duty to create India of the dreams of those great people who gave us freedom, whether we have a national character?\n",
    "Brothers and sisters, can someone please tell me as to whether he or she has ever introspected in the evening after a full day's work as to whether his or her acts have helped the poor of the country or not, whether his or her actions have resulted in safeguarding the interest of the country or not, whether the actions have been directed in country's welfare or not? Whether it should not be the motto of one and a quarter billion countrymen that every step in life should be in the country's interests?\n",
    "Unfortunately, we have an environment today wherein if you approach anyone with some work, he begins by saying \"what does it mean for me?\" He begins by saying \"what does it involve for me?\" and when he come to know that it does not entail any benefit for him, immediately he says \"why should I bother?\" We have to rise above the feelings of \"what does it mean for me?\" and \"why should I bother?\".\n",
    "Everything is not for self-interest only. There are certain things which are meant for the country and we have to refine this national character. We have to rise above the feelings of \"why should I bother?\" and \"what does it mean for me?\" and instead we have to think that \"I am for nation's interest and in this field, I am going to lead\". We have to inculcate this sentiment.\n",
    "Brothers and sisters, when we hear about the incidents of rape, we hang our heads in shame. People come out with different arguments, someone indulges in psycho analysis, but brothers and sisters, today from this platform, I want to ask those parents, I want to ask every parent that you have a daughter of 10 or 12 years age, you are always on the alert, every now and then you keep on asking where are you going, when would you come back, inform immediately after you reach. Parents ask their daughters hundreds of questions, but have any parents ever dared to ask their son as to where he is going, why he is going out, who his friends are. After all, a rapist is also somebody's son. He also has parents. As parents, have we ever asked our son as to what he is doing and where he is going? If every parent decides to impose as many restrictions on the sons as have been imposed on our daughters, try to do this with your sons, try to ask such questions of them.\n",
    "My dear brothers and sisters, the law will take its own course, strict action will be taken, but as a member of the society, as parents, we also have some responsibilities.\n",
    "If somebody tells me that those who have taken guns on their shoulders and kill innocent people are Maoists, are terrorists, but they are also somebody's children. I would like to ask of such parents if they had ever asked their children as to why they were taking a wrong path. Every parent must take this responsibility; he must know that his misguided son is bent on killing innocent people. He is not able to serve himself nor his family nor the country. I want to say to those youngsters who have chosen the path of violence that whatever they are and wherever they are, it is all because of mother India only that they have got it.\n",
    "Whoever you are it is all because of your parents. I want to ask you to think how green, how beautiful and how beneficial this earth can become if you shoulder the plough instead of the gun which spills blood on this land. How long shall we have bloodshed on this land, how long shall we take the lives of the innocent people and what have we got after all this? The path of violence has not yielded anything to us.\n",
    "Brothers and sisters, I had gone to Nepal recently. There I said something publicly to draw the attention of the whole world. There was a time when the Emperor Ashoka who had chosen the path of wars, got converted to the path of Buddha at the sight of violence.\n",
    "There was a time in Nepal when their youngsters had opted for the path of violence but today I witness that the same youngsters are waiting for their constitution. The same people associated with them are framing the constitution. And I further said that if Nepal could present the best example of moving from the weapons to the books then it could provide inspiration to the youngsters in the world to abandon the path of violence.\n",
    "Brothers and sisters, if Nepal, the land of Buddha, can give message to the world then why can't India too do the same? So it's the call of the hour that we renounce the path of violence and take the path of brotherhood.\n",
    "Brothers and sisters, for one reason or the other, we have had communal tensions for ages. This led to the division of the country. Even after Independence, we have had to face the poison of casteism and communalism. How long these evils will continue? Whom does it benefit? We have had enough of fights, many have been killed. Friends, look behind and you will find that nobody has benefited from it. Except casting a slur on Mother India, we have done nothing. Therefore, I appeal to all those people that whether it is the poison of casteism, communalism, regionalism, discrimination on social and economic basis, all these are obstacles in our way forward. Let's resolve for once in our hearts; let's put a moratorium on all such activities for 10 years, we shall march ahead to a society which will be free from all such tensions. And you will see that how much strength we get from peace, unity, goodwill and brotherhood. Let`s experiment it for once.\n",
    "My dear countrymen, believe in my words, I do assure you. Shun all the sins committed so far, give up that way, follow the way of goodwill and brotherhood, and let's resolve to take the country forward. I believe we can do that.\n",
    "With advancement of science, brothers and sisters, we have a rising feeling of modernity in our mind, but what do we do? Have we ever thought what the sex ratio in the country is like? 940 girls are born against per 1,000 boys. Who is causing this imbalance in the society? Certainly not God. I request the doctors not to kill the girl growing in the womb of a mother just to line their own pockets.  I advise mothers and sisters not to sacrifice daughters in the hope of son. Sometimes mother-father feel tempted to have son in the hope of supporting them in old age. I am a person who has worked in public life. I have come across families with five sons, each having bungalows, access to fleet of cars, but parents are forced to live in old-age homes, Vriddhashrams. I have seen such families. I have also seen families with only daughter as progeny, that daughter sacrifices her dreams, doesn't get married, and spends entire life in taking care of old parents.\n",
    "This disparity points to female foeticide and the polluted and tainted mind the 21st century has. We will have to liberate from it, and that is message to us of this freedom festival.\n",
    "Recently Commonwealth Games were organised. Indian sportspersons brought glory to the country. Nearly 64 of our sportspersons won. Our sportspersons brought 64 medals. But of them 29 are girls. Let's feel proud and clap for them. Girls also contribute to India's fame and glory. Let's recognise it. Let's take them along, shoulder to shoulder. This way we can get over the evils that have crept in social life. Therefore, brothers and sisters, we have to proceed in that direction as a social and national character.\n",
    "Brothers and Sisters, development is the only way forward for the country. Good governance is the only way. There are only these two tracks to take the country forward - good governance and development, we can move forward only by taking them with us. We wish to move forward with the intent of taking them with us. When I talk of good governance, you tell me, when I ask a person in private job, he tells that he does the job; when you ask the same from a person in government job, he says that I do the service. Both earn, but for one it is job while for the other it is service. I ask a question from all brothers and sisters in government service, whether the word \"service\" has not lost its strength, its identity? Persons in government service are not doing \"job\", they are doing \"service\". We have to revive this feeling, we have to take this feeling forward as a national character; we have to move forward in this direction.\n",
    "Brothers and Sisters, whether the citizens of the country should take steps for the welfare of the nation or not? You imagine, if these 125 crore countrymen move one step forward, then the country moves 125 crore steps forward. The meaning of democracy is not just limited to electing a government, but its meaning is that 125 crore of citizens work together joining shoulder with the government to fulfill hopes and aspirations of the country, this is the meaning of democracy.\n",
    "We have to create partnership with the people. We have to proceed under Public-Private Partnership. We have to proceed along with the participation of the people. But, please tell me why our farmers commit suicide? A farmer takes loan from the moneylender, but fails to repay his loans. He takes loan for the wedding of his daughter, but fails to repay. He will have to suffer hardships during his whole life. He chooses to commit suicide. Who will save the poor families of such farmers?\n",
    "Brothers and sisters, I have come here with a pledge to launch a scheme on this festival of Freedom. It will be called Pradhanmantri Jan-Dhan Yojana. I wish to connect the poorest citizens of the country with the facility of bank accounts through this yojana. There are millions of families who have mobile phones but no bank accounts. We have to change this scenario. Economic resources of the country should be utilized for the well-being of the poor. The change will commence from this point. This yojana will open the window. Therefore, an account holder under `Pradhanmantri Jan-Dhan Yojana` will be given a debit card. An insurance of Rs 1 lakh will be guaranteed with that debit card for each poor family, so that such families are covered with the insurance of rs 1 lakh in case of any crisis in their lives.\n",
    "My brothers and sisters, it is a country of young people. The 65 percent population of the country happens to be under the age of 35 years. Our country has the largest number of youths in the world. Have we ever thought of deriving an advantage out of it? Today, the world needs a skilled workforce. Today, India also needs a skilled workforce. At times, we look for a good driver but he is not available, we look for a plumber, but he is not available. If we need a good cook, he is not available. We have young people, they are unemployed but the kind of young people we seek for are not available. If we have to promote the development of our country then our mission has to be \"skill development\" and \"skilled India\".\n",
    "Millions and Millions of Indian youth should go for acquisition of skills and there should be a network across the country for this and not the archaic systems. They should acquire the skills which could contribute towards making India a modern country. Whenever they go to any country in the world, their skills must be appreciated and we want to go for a two pronged development.\n",
    "I also want to create a pool of young people who are able to create jobs and the ones who are not capable of creating jobs and do not have the opportunities, they must be in a position to face their counterparts in any corner of the world while keeping their heads high by virtue of their hard work and their dexterity of hands and win the hearts of people around the world through their skills. We want to go for the capacity building of such young people. My brothers and sisters, having taken a resolve to enhance the skill development at a highly rapid pace, I want to accomplish this.\n",
    "Brothers and sisters, the world has undergone a change. My dear countrymen, the world has changed. Now India can not decide its future by remaining isolated and sitting alone in a corner. The economics of the world have changed and, therefore, we will have to act accordingly. Government have taken many decisions recently, made some announcements in the budget and I call upon the world and call upon the Indians spread world over that if we have to provide more and more employment to the youth, we will have to promote manufacturing sector. If we have to develop a balance between imports and exports, we will have to strengthen manufacturing sector. If we have to put in use the education, the capability of the youth, we will have to go for manufacturing sector and for this Hindustan also will have to lend its full strength, but we also invite world powers.\n",
    "Therefore I want to appeal all the people world over, from the ramparts of Red Fort, \"Come, make in India\", \"Come, manufacture in India\". Sell in any country of the world but manufacture here. We have got skill, talent, discipline, and determination to do something. We want to give the world an favourable opportunity that come here, \"Come, Make in India\" and we will say to the world, from electrical to electronics, \"Come, Make in India\", from automobiles to agro value addition \"Come, Make in India\", paper or plastic, \"Come, Make in India\", satellite or submarine \"Come, Make in India\". Our country is powerful. Come, I am giving you an invitation.\n",
    "Brothers and sisters, I want to call upon the youth of the country, particularly the small people engaged in the industrial sector. I want to call upon the youth working in the field of technical education in the country. As I say to the world \"Come, Make in India\", I say to the youth of the country - it should be our dream that this message reaches every corner of the world, \"Made in India\". This should be our dream. Whether, to serve the country, is it necessary for the youth of the country to be hanged like Bhagat Singh? Brothers and sisters, Lal Bahadur Shastri had given the slogan \"Jai Jawan, Jai Kisan\". A soldier sacrifices himself at the border and protects Mother India. Similarly, a farmer serves Mother India by filling the godowns with grains. This is also nation's service. Filling the granary is the biggest nation`s service that a farmer provides. That is why Lal Bahadur Shashtri had given the slogan of \"Jai Jawan, Jai Kisan\".\n",
    "Brothers and Sisters, I would like to pose a question to my youngsters as to why despite them, we are forced to import even the smallest of things? My country's youth can resolve it, they should conduct research, try to find out as to what type of items are imported by India and then each one should resolve that, through may be micro or small industries only, he would manufacture atleast one such item so that we need not import the same in future. We should even advance to a situation wherein we are able to export such items. If each one of our millions of youngsters resolves to manufacture at least one such item, India can become a net exporter of goods. I, therefore, urge upon the youth, in particular our small entrepreneurs that they would never compromise, at least on two counts. First, zero defect and, second again zero effect. We should manufacture goods in such a way that they carry zero defect, that our exported goods are never returned to us. We should manufacture goods with zero effect that they should not have a negative impact on the environment. If we march ahead with the dream of zero defect in the manufacturing sector then, my brothers and sisters, I am confident that we would be able to achieve our goals.\n",
    "Brothers and sisters, the youth of India has completely transformed the identity of India in the world. Earlier, in what manner did the world know our country? Till only 25-30 years back, if not more, there were many people in the world who thought that India was a country of snake charmers, it was a country which practiced in black magic.\n",
    "The real identity of India had not reached the world, but my dear brothers and sisters, our youngsters, 20-22-23 years old youngsters have mesmerized the whole world with their skills in computers. Our young IT professionals have given a new path of making a new identity of India. If our country has this strength, can we think something about the country? Our dream is, therefore, of \"Digital India\". When I talk of \"Digital India\", I don't speak of the elite, it is for the poor people.\n",
    "You can imagine what a quality education the children in villages will get, if all the villages of India are connected with broadband connectivity and if we are able to give long distance education to the schools in every remote corner of the villages. If we create a network of telemedicine in the places where there is a shortage of doctors, we can have a clear guideline of the way in which health facilities have to be provided to the poor people living in those areas.\n",
    "The citizens of India have mobile phones in their hands, they have mobile connectivity, but can we walk in the direction of mobile governance? We have to move in a direction where every poor person is able to operate his bank account from his mobile, is able to demand various things from the government, can submit applications, can conduct all his business, while on the move, through mobile governance and if this has to be done, we have to move towards `digital India` and if we have to move towards `digital India` then we have a dream.\n",
    "Today we are importing electronic goods on a large scale. Friends, you will be surprised that we are bringing in these televisions, mobile phones, iPads and all these electronic goods. It is a necessity to import petroleum products, oil, diesel and petrol. Second to this is the import of our electronic goods. If we move ahead with the dream of `digital India` to manufacture electronic goods and become self reliant at least there, how big can be the benefit for the treasury! Therefore, e-governance is what we need to take this idea of `digital India` forward.\n",
    "E-governance is easy governance, effective governance and also economic governance. E-governance paves the way for good governance. There was a time when we used to say that the railways provided connectivity to the country. That was it. I say that today it is IT that has the potential to connect each and every citizen of the country and that is why we want to realise the mantra of unity with the help of \"digital India\".\n",
    "Brothers and sisters, if we move ahead with all this then I believe that a `digital India` will have the potential to stand with the world on equal footing. Our youth have that capability, it is an opportunity for them.\n",
    "Brothers and sisters, we want to promote tourism. Tourism provides employment to the poorest of the poor. Gram seller earns something, auto-rickshaw driver earns something, pakoda seller earns something and tea seller also earns something. When there is talk of tea seller, I feel a sense of belongingness. Tourism provides employment to the poorest of the poor. But there is a big obstacle in promoting tourism and in our national character and that is - the filthiness all around us. Whether after independence, after so many years of independence, when we stand at the threshold of one and half decade of 21st century, we still want to live in filthiness? The first work I started here after formation of government is of cleanliness. People wondered whether it is a work of a prime minister? People may feel that it is a trivial work for a Prime Minister but for me this big work. Cleanliness is very big work. Whether our country can not be clean? If 125 crore countrymen decide that they will never spread filthiness, which power in the world has ability to spread filthiness in our cities and villages? Can't we resolve this much?\n",
    "Brothers and sisters it will be the 150th birth anniversary of Mahatma Gandhi in 2019. How do we celebrate 150th birth anniversary of Mahatma Gandhi? Mahatma Gandhi, who gave us freedom, who brought so much honour to such a big country in the world, what do we give to Mahatma Gandhi? Brothers and Sisters, Mahatma Gandhi had cleanliness and sanitation closest to his heart. Whether we resolve not to leave a speck of dirt in our village, city, street, area, school, temple, hospital, and what have you, by 2019 when we celebrate 150th anniversary of Mahatma Gandhi? This happens not just with the Government, but with public participation. That's why we have to do it together.\n",
    "Brother and Sisters, we are living in 21st century. Has it ever pained us that our mothers and sisters have to defecate in open? Whether dignity of women is not our collective responsibility? The poor womenfolk of the village wait for the night; until darkness descends, they can`t go out to defecate. What bodily torture they must be feeling, how many diseases that act might engender. Can't we just make arrangements for toilets for the dignity of our mothers and sisters? Brothers and Sisters, somebody might feel that a big festival like 15th August is an occasion to talk big.\n",
    "Brothers and Sisters, talking big has its importance, making announcements too has importance, but sometimes announcements raise hopes and when the hopes are not fulfilled, the society sinks into a state of despondency. That's why are in favour of telling those things, which we can fulfill just within our sight. Brothers and sisters, you must be getting shocked to hear the Prime Minister speaking of cleanliness and the need to build toilets from the ramparts of the Red Fort.\n",
    "Brothers and sisters, I do not know how my speech is going to be criticised and how will people take it. But this is my heartfelt conviction. I come from a poor family, I have seen poverty. The poor need respect and it begins with cleanliness. I, therefore, have to launch a \"Clean India\" campaign from 2nd October this year and carry it forward in 4 years. I want to make a beginning today itself and that is - all schools in the country should have toilets with separate toilets for girls. Only then our daughters will not be compelled to leave schools midway. Our parliamentarians utilising MPLAD fund are there. I appeal to them to spend it for constructing toilets in schools for a year. The government should utilise its budget on providing toilets. I call upon the corporate sector also to give priority to the provision of toilets in schools with your expenditure under Corporate Social Responsibility. This target should be finished within one year with the help of state governments and on the next 15th August, we should be in a firm position to announce that there is no school in India without separate toilets for boys and girls.\n",
    "Brothers and sisters, if we proceed with the dreams, we are in a position to realise them. Today, I wish to tell one more specific thing. It has its own importance to discuss the matters and express the views of nation's interest. However, our Members of Parliament do not get opportunity though they are willing to do something. They can express themselves, write to the government, agitate, give memoranda. Still they do not get opportunity to do something on their own.\n",
    "Today I have come to you with a new idea. We are running so many schemes in the name of the Prime Minister in our country, there are numerous schemes in the name of various leaders. However, today I am going to announce a scheme on behalf of the Member of Parliament- Sansad Aadarsh Gram Yojana. We shall fix some parameters. I urge upon the Members of Parliament to select any one of the villages having population of three to five thousand in your constituency. The parameters will be according to the time, space and situation of that locality. It will include the conditions of health, cleanliness, atmosphere, greenery, cordiality etc.\n",
    "On the basis of those parameters, each of our MPs should make one village of his or her constituency a Model Village by 2016. Can't we do at least this? Shouldn't we do this? If we have to build a nation, we should start from the village. Make a Model Village. The reason of fixing this target for 2016 is that it is a new scheme. It takes time to formulate a scheme and then to implement it. After 2016, select two more villages for this purpose, before we go for the General Elections in 2019. And after 2019, each Member of Parliament, during his/her tenure of 5 years must establish at-least five model villages in his/her area. I also call upon the Members of Parliament from urban areas to adopt one village of their choice.\n",
    "I also urge upon the Members of Parliament from Rajya Sabha to adopt one of the villages. If we provide one model village in each district of India then the surrounding villages shall be automatically inspired to follow that model. Let us establish a model village, let us establish a village well equipped with all systems and facilities. The birth anniversary of Jai Prakash Narayan Ji happens to be on 11th October.\n",
    "On 11th October, the occasion of birth anniversary of Jai Prakash Narayan Ji, I will present a complete blueprint of Sansad Adarsh Gram Yojana (Members of Parliament Model Village Scheme) before all Members of Parliament and State Governments, and I urge upon State Governments also that as per the feasibility in their respective states, all the Members of Legislative Assembly resolve to establish a model village. You can imagine all the Members of Legislative Assembly and all the Members of Parliament in the country establishing a model village. All of a sudden, there would be a model village in each block of India which could inspire us to transform the amenities in rural areas and could give us a new direction and, therefore, we want to move ahead under this Sansad Adarsh Gram Yojana.\n",
    "My dear brothers and sisters, ever since our government has taken charge, there has been a discussion in the newspapers, on TV channels as to what would happen to Planning Commission. I believe that when Planning Commission was constituted, it was done on the basis of the circumstances and the needs of those times. In recent years, Planning Commission has contributed to the growth of the country in its own way. I respect that, I am proud of that, but the prevalent situation in the country is different, global scenario has also changed, governments are no longer the centre of economic activities, the scope of such activities has broadened. State governments have been at the center of development and I consider this a good indication. If we have to take India forward, it can happen only by taking the states forward.\n",
    "India's federal structure is more important today than in the last 60 years. To strengthen our federal structure, to make our federal structure vibrant, to take our federal structure as a heritage of development, a team of Chief Minister and Prime Minister should be there, a joint team of the Centre and the states should move forward, then to do this job, we will have to think about giving the Planning Commission a look. So, I am saying from the rampart of the Red Fort that it is a very old system and it will have to be rejuvenated, it will have to be changed a lot. Sometimes it costs more to repair the old house, but, it gives us no satisfaction. Thereafter, we have a feeling that it would be better to construct a new house altogether and therefore within a short period, we will replace the planning commission with a new institution having a new design and structure, a new body, a new soul, a new thinking, a new direction, a new faith towards forging a new direction to lead the country based on creative thinking, public-private partnership, optimum utilization of resources, utilization of youth power of the nation, to promote the aspirations of state governments seeking development, to empower the state governments and to empower the federal structure. Very shortly, we are about to move in a direction when this institute would be functioning in place of Planning Commission.\n",
    "Brothers and sisters, today, on 15th August, we also have the birth anniversary of Maharishi Aurobindo. Maharishi Aurobindo, being a rebel, moved on to achieve the status of a Yoga Guru. With regard to the destiny of India, he remarked, \"I have a faith that the divine power and spiritual heritage of India will play an important role towards the welfare of the world.\" Such sentiments were echoed by Maharishi Arvind. I strongly believe in the words of legends. I have great faith in the statements made by ascetics, sages & saints and that's why today at the ramparts of Lal Quila I am reminded of the words of Swami Viveknanda. He had said - \"I can see before my eyes Mother India awakening once again. My Mother India would be seated as the World Guru. Every Indian would render service towards welfare of humanity. This legacy of India would be useful for the welfare of the world\". These words were spoken by Swami Viveknanda ji in his own style. Friends, the words of Viveknanda ji can never be untrue. The words of Viveknanda ji, his dream of seeing India ensconced as World Guru, his vision, it is incumbent upon us to realize that dream. This capable country, blessed with natural bounty, this country of youth can do much for the world in the coming days.\n",
    "Brothers and sisters, our foreign policy is a much talked about issue. I clearly believe that India's foreign policy can be multi-dimensional. But there is an important issue to which I want to draw your attention that the way we fought for freedom, we fought together; we were not separate at that time. We were together. Which was the government with us? What were the weapons available to us? There was a Gandhi, a Sardar and lakhs of freedom fighters and such a huge empire. Didn't we win in the struggle of freedom against that empire? Did we not defeat the foreign powers? Did we not force them to leave India? We were the ones, they were our ancestors only who showed this might. If the people of India could remove such a big empire without the power of the government, without weapons and even without resources, then friends, it is the need of the hour to eradicate poverty, can we not overcome poverty? Can we not defeat poverty? My 125 crore dear countrymen, let us resolve to eradicate poverty, to win against it. Let us move with the dream of poverty eradication from India. Our neighbouring countries are also faced with the same problem. Why not get together with all the SAARC nations to plan out the fight against poverty? Let`s fight together and defeat poverty. Let us see at-least for once as to how wonderful is the feeling of being alive instead of killing and getting killed.\n",
    "This is the land where incidents from Sidharth's life happened. One bird was shot with an arrow by one brother and the other took out that arrow to save it. They went to mother- whose bird, whose swan? Whether killer's or saviour's, they asked of mother. The mother replied, saviour's. The saviour has more power than the killer and that makes him Buddha in future. And that's why I seek cooperation from neighbouring countries for fighting against poverty in concert and cooperate with them, so that together with SAARC countries we can create our importance and emerge as a power in the world. It is imperative that we work together with a dream to win a fight against poverty, shoulder to shoulder.\n",
    "I went to Bhutan, Nepal, all the dignitaries from SAARC countries took part in oath-taking ceremony; this marked a good beginning. This will definitely yield good results, it is my belief and this thinking of India, in the country and the world, that we want to do well to the countrymen and be useful for the welfare of the world, India wants such a hand to be extended. We are trying to move forward with these dreams to achieve them.\n",
    "Brothers and Sisters, today on 15th August we will resolve to do something for the country. Let's be useful for the country, we will move ahead with a resolve to take the country forward, and I assure you, Brothers and Sisters, as well as my colleagues in the Government, that if you work for 12 hours, I will do so for 13 hours. If you work for 14 hours, I will do for 15 hours. Why? Because I'm amidst you not as a Prime Minister, but as the first servant. I have formed the government not as a ruler, but as a servant.\n",
    "Brothers and sisters, I assure that this country has a destiny. It is destined to work for the welfare of the world, it was said by Vivekanand ji. India is born; this Hindustan is born in order to achieve this destiny. One hundred and twenty-five crore countrymen have to move forward wholeheartedly for the welfare of the nation.\n",
    "Once again I feel proud of the devotion, the sacrifices of the security forces of the country, para-military forces of the country, all the security forces of the country to protect Mother India. I say to the countrymen, 'Eternal vigilance is the price of liberty'.\n",
    "The army is vigilant, we should also be vigilant and the country scales new heights, we have to move forward with this resolution. Speak loudly with me with full force - Bharat Mata ki jai, Bharat Mata ki jai, Bharat Mata ki jai. Jai Hind, Jai Hind, Jai Hind. Vande Mataram, Vande Mataram, Vande Mataram!\"\"\"]"
   ]
  },
  {
   "cell_type": "code",
   "execution_count": 11,
   "metadata": {},
   "outputs": [
    {
     "data": {
      "image/png": "[encoded data removed]",
      "text/plain": [
       "<Figure size 1440x720 with 1 Axes>"
      ]
     },
     "metadata": {},
     "output_type": "display_data"
    }
   ],
   "source": [
    "mask = np.array(Image.open(\"india3.PNG\"))\n",
    "def wordcloud(tweets, title):\n",
    "    stopwords = set(STOPWORDS)\n",
    "    stopwords.add(\"will\")\n",
    "    stopwords.add(\"now\")\n",
    "    wordcloud = WordCloud(width=512, height=512, background_color=\"black\", max_font_size=18, min_font_size=4,\n",
    "                          max_words=50, stopwords=stopwords, colormap='Dark2',\n",
    "                          random_state=40, mask=mask).generate(\" \".join([i for i in sent]))\n",
    "    plt.figure(title, figsize=(20, 10), facecolor='white', edgecolor='blue')\n",
    "    plt.imshow(wordcloud, interpolation=\"bilinear\")\n",
    "    plt.axis(\"off\")\n",
    "    plt.title(title)\n",
    "    plt.tight_layout(pad=0)\n",
    "    plt.show()\n",
    "wordcloud(sent,\"INDIA\")\n",
    "\n"
   ]
  },
  {
   "cell_type": "code",
   "execution_count": 85,
   "metadata": {},
   "outputs": [
    {
     "name": "stdout",
     "output_type": "stream",
     "text": [
      "[(0, '0.001*\"and\" + 0.001*\"the\" + 0.001*\"to\" + 0.001*\"of\" + 0.001*\"in\" + 0.001*\"a\" + 0.001*\"I\" + 0.001*\"we\" + 0.001*\"that\" + 0.001*\"is\"'), (1, '0.001*\"the\" + 0.001*\"of\" + 0.001*\"to\" + 0.001*\"a\" + 0.001*\"in\" + 0.001*\"and\" + 0.001*\"we\" + 0.001*\"have\" + 0.001*\"is\" + 0.001*\"I\"'), (2, '0.052*\"the\" + 0.036*\"of\" + 0.034*\"to\" + 0.023*\"and\" + 0.019*\"a\" + 0.017*\"in\" + 0.016*\"we\" + 0.014*\"I\" + 0.014*\"have\" + 0.011*\"that\"')]\n"
     ]
    }
   ],
   "source": [
    "\n",
    "doc1 = \"\"\"\"\"My dear countrymen,\n",
    "Today, all Indians in the country and also abroad are celebrating the festival of independence. On this day of sacred festival of independence, the prime servant of India extends greetings to all dear countrymen.\n",
    "I am present amidst you not as the Prime Minister, but as the Prime Servant. The freedom struggle was fought for so many years, so many generations laid down their lives, innumerable people sacrificed their lives and youth, spent their entire lives behind bars. Today, I pay my respect, greetings and homage to all those who laid their lives for the country`s independence.\n",
    "\n",
    "I also pay my respects to the crores of citizens of this country on the pious occasion of India's independence, and recall all those martyrs who had laid down their lives in India's struggle for freedom. The day of Independence is a festival when we take a solemn pledge of working for the welfare of mother India, and also for the welfare of the poor, oppressed, Dalits, the exploited & the backward people of our country.\n",
    "My dear countrymen, a national festival is an occasion to refine and rebuild the national character. This National festival inspires us to resolve ourselves to lead a life where our character gets refined further, to dedicate ourselves to the nation and our every activity is linked to the interest of the nation and only then this festival of freedom can be a festival of inspiration to take India to newer heights.\n",
    "My dear countrymen, this nation has neither been built by political leaders nor by rulers nor by governments.\n",
    "This nation has been built by our farmers, our workers, our mothers and sisters, our youth. The country has reached here today because of generation to generation rigours undertaken by our sages, our saints, our maestros, our teachers, our scientists and social workers. These great people and these great generations, who had worked for the country throughout their lives, deserve our deepest respect.\n",
    "This is the beauty of India's Constitution, this is its capability which has made it possible that today a boy from small town, a poor family has got the opportunity to pay homage to the Tricolour of India at the ramparts of Lal Quila (Red Fort). This is the strength of India's democracy. This is an invaluable legacy which we have inherited from our architects of the Constitution. I pay my respects to those architects of the constitution of India today.\n",
    "\n",
    "PM Narendra Modi with kids\n",
    "Brothers and sisters, today if we have reached here after independence, it is because of the contribution of all the Prime Ministers, all the governments and even the governments of all the States. I want to express my feelings of respect and gratitude to all those previous governments and ex-Prime Ministers who have endeavoured to take our present day India to such heights and who have added to the country's glory.\n",
    "This country has been built on such foundation of ancient cultural heritage, where we were told of only one mantra during Vedic period, which is indicative of our work culture, which we have learnt, we have memorized - \"Sangachchhdhvam Samvadadhvam sam wo manansi jaanataam.\" We walk together, we move together, we think together, we resolve together and together we take this country forward.\n",
    "\n",
    "PM Narendra Modi at Red Fort\n",
    "Having imbibed this basic mantra, 125 crore countrymen have taken the nation forward. Yesterday only the first Parliamentary Session of the new government had concluded.\n",
    "Today, I can proudly say that the session of Parliament reflects our thinking and it is a reflection of our intentions. We are not for moving forward on the basis of majority, we are not interested to move forward by virtue of majority. We want to move ahead on the basis of strong consensus. \"Sangachhadhwam\" and, therefore, the nation has witnessed the entire session of Parliament.\n",
    "Having taken all the Parties and Opposition along while working shoulder to shoulder, we achieved an unprecedented success and the credit for this does not go to the Prime Minister alone, the credit does not go to the people sitting in the government, the credit for this goes to the Opposition also, the credit goes to all the leaders of Opposition too and also all the Members from Opposition.\n",
    "From the ramparts of Red Fort, quite proudly I salute all the Members of Parliament, I also salute all the political parties and by virtue of their strong support, we could take some important decisions intended to take the nation forward and yesterday the Session of Parliament had concluded.\n",
    "Brothers and sisters, I am an outsider for Delhi; I am not a native of Delhi. I have no idea about the administration and working of this place. I have been quite isolated from the elite class of this place but during the last two months while being an outsider, I had an insider view and I was astonished. It is not a political platform, rather it is a platform of a national policy and, therefore, my views should not be evaluated from a political perspective.\n",
    "\n",
    "PM Narendra Modi\n",
    "I have already said, I salute all the ex-Prime Ministers and earlier governments who have brought the country thus far. But I am going to say something else and it may not be seen from political point of view. When I came to Delhi and noticed an insider view, I felt what it was and I was surprised to see it. It seemed as if dozens of separate governments are running at the same time in one main government. It appeared that everyone has its own fiefdom. I could observe disunity and conflict among them. One department is taking on the other department and taking on to the extent that two departments of the same government are fighting against each other by approaching Supreme Court. This disunity, this conflict among people of the same country! How come we can take the country forward? And that is why I have started making efforts for razing those walls; I have started making efforts at making the government,  not an assembled entity, but an organic unity, an organic entity, a harmonious whole- with one aim, one mind, one direction, one energy.\n",
    "Let's resolve to steer the country to one destination. We have it in us to move in that direction. A few days back...Nowadays newspapers are full of news that Modi-ji's government has come, officers are reaching office on time, offices open in time, and people get there in time. I observed that India's national newspapers, TV media were carrying these news items prominently.\n",
    "As the head of the government I could have derived pleasure in the fact that everything started going on time, cleanliness got the attention, but I was not taking pleasure, I was feeling pained. That thing, I want to tell today in public. And why, because if government officers arrive office in time, does that make a news? And if that makes news, it shows how low we have fallen. It becomes a proof of that, and that's how, brothers and sisters, the governments have run? Today in the face of global competition, when we have to realise the dreams of millions of Indians, the country cannot run on the lines of \"it happens\", \"it goes\".\n",
    "In order to fulfill the aspirations of masses, we have to sharpen the tool called the government machinery, we have to make it keen, more dynamic, and it is in this direction that we are working.\n",
    "My countrymen, it's not long since I have come from outside Delhi, but I give you an assurance that the people in the government are very capable - from the peon to the Cabinet Secretary, everybody is capable, everybody has a power, they have experience. I want to awaken that power, I want to unite that power and want to accelerate the pace of the welfare of nation through that power and I shall definitely do it. I want to assure the countrymen that we will achieve that, we will definitely do that. I could not say this on 16th May, but today after my experience of two-two and half months, keeping the Tricolour as witness, I am saying on 15th of August that it is possible, it will be achieved.\n",
    "Brothers and sisters, time has come to give a serious thought to the fact that whether we have a duty to create India of the dreams of those great people who gave us freedom, whether we have a national character?\n",
    "Brothers and sisters, can someone please tell me as to whether he or she has ever introspected in the evening after a full day's work as to whether his or her acts have helped the poor of the country or not, whether his or her actions have resulted in safeguarding the interest of the country or not, whether the actions have been directed in country's welfare or not? Whether it should not be the motto of one and a quarter billion countrymen that every step in life should be in the country's interests?\n",
    "Unfortunately, we have an environment today wherein if you approach anyone with some work, he begins by saying \"what does it mean for me?\" He begins by saying \"what does it involve for me?\" and when he come to know that it does not entail any benefit for him, immediately he says \"why should I bother?\" We have to rise above the feelings of \"what does it mean for me?\" and \"why should I bother?\".\n",
    "Everything is not for self-interest only. There are certain things which are meant for the country and we have to refine this national character. We have to rise above the feelings of \"why should I bother?\" and \"what does it mean for me?\" and instead we have to think that \"I am for nation's interest and in this field, I am going to lead\". We have to inculcate this sentiment.\n",
    "Brothers and sisters, when we hear about the incidents of rape, we hang our heads in shame. People come out with different arguments, someone indulges in psycho analysis, but brothers and sisters, today from this platform, I want to ask those parents, I want to ask every parent that you have a daughter of 10 or 12 years age, you are always on the alert, every now and then you keep on asking where are you going, when would you come back, inform immediately after you reach. Parents ask their daughters hundreds of questions, but have any parents ever dared to ask their son as to where he is going, why he is going out, who his friends are. After all, a rapist is also somebody's son. He also has parents. As parents, have we ever asked our son as to what he is doing and where he is going? If every parent decides to impose as many restrictions on the sons as have been imposed on our daughters, try to do this with your sons, try to ask such questions of them.\n",
    "My dear brothers and sisters, the law will take its own course, strict action will be taken, but as a member of the society, as parents, we also have some responsibilities.\n",
    "If somebody tells me that those who have taken guns on their shoulders and kill innocent people are Maoists, are terrorists, but they are also somebody's children. I would like to ask of such parents if they had ever asked their children as to why they were taking a wrong path. Every parent must take this responsibility; he must know that his misguided son is bent on killing innocent people. He is not able to serve himself nor his family nor the country. I want to say to those youngsters who have chosen the path of violence that whatever they are and wherever they are, it is all because of mother India only that they have got it.\n",
    "Whoever you are it is all because of your parents. I want to ask you to think how green, how beautiful and how beneficial this earth can become if you shoulder the plough instead of the gun which spills blood on this land. How long shall we have bloodshed on this land, how long shall we take the lives of the innocent people and what have we got after all this? The path of violence has not yielded anything to us.\n",
    "Brothers and sisters, I had gone to Nepal recently. There I said something publicly to draw the attention of the whole world. There was a time when the Emperor Ashoka who had chosen the path of wars, got converted to the path of Buddha at the sight of violence.\n",
    "There was a time in Nepal when their youngsters had opted for the path of violence but today I witness that the same youngsters are waiting for their constitution. The same people associated with them are framing the constitution. And I further said that if Nepal could present the best example of moving from the weapons to the books then it could provide inspiration to the youngsters in the world to abandon the path of violence.\n",
    "Brothers and sisters, if Nepal, the land of Buddha, can give message to the world then why can't India too do the same? So it's the call of the hour that we renounce the path of violence and take the path of brotherhood.\n",
    "Brothers and sisters, for one reason or the other, we have had communal tensions for ages. This led to the division of the country. Even after Independence, we have had to face the poison of casteism and communalism. How long these evils will continue? Whom does it benefit? We have had enough of fights, many have been killed. Friends, look behind and you will find that nobody has benefited from it. Except casting a slur on Mother India, we have done nothing. Therefore, I appeal to all those people that whether it is the poison of casteism, communalism, regionalism, discrimination on social and economic basis, all these are obstacles in our way forward. Let's resolve for once in our hearts; let's put a moratorium on all such activities for 10 years, we shall march ahead to a society which will be free from all such tensions. And you will see that how much strength we get from peace, unity, goodwill and brotherhood. Let`s experiment it for once.\n",
    "My dear countrymen, believe in my words, I do assure you. Shun all the sins committed so far, give up that way, follow the way of goodwill and brotherhood, and let's resolve to take the country forward. I believe we can do that.\n",
    "With advancement of science, brothers and sisters, we have a rising feeling of modernity in our mind, but what do we do? Have we ever thought what the sex ratio in the country is like? 940 girls are born against per 1,000 boys. Who is causing this imbalance in the society? Certainly not God. I request the doctors not to kill the girl growing in the womb of a mother just to line their own pockets.  I advise mothers and sisters not to sacrifice daughters in the hope of son. Sometimes mother-father feel tempted to have son in the hope of supporting them in old age. I am a person who has worked in public life. I have come across families with five sons, each having bungalows, access to fleet of cars, but parents are forced to live in old-age homes, Vriddhashrams. I have seen such families. I have also seen families with only daughter as progeny, that daughter sacrifices her dreams, doesn't get married, and spends entire life in taking care of old parents.\n",
    "This disparity points to female foeticide and the polluted and tainted mind the 21st century has. We will have to liberate from it, and that is message to us of this freedom festival.\n",
    "Recently Commonwealth Games were organised. Indian sportspersons brought glory to the country. Nearly 64 of our sportspersons won. Our sportspersons brought 64 medals. But of them 29 are girls. Let's feel proud and clap for them. Girls also contribute to India's fame and glory. Let's recognise it. Let's take them along, shoulder to shoulder. This way we can get over the evils that have crept in social life. Therefore, brothers and sisters, we have to proceed in that direction as a social and national character.\n",
    "Brothers and Sisters, development is the only way forward for the country. Good governance is the only way. There are only these two tracks to take the country forward - good governance and development, we can move forward only by taking them with us. We wish to move forward with the intent of taking them with us. When I talk of good governance, you tell me, when I ask a person in private job, he tells that he does the job; when you ask the same from a person in government job, he says that I do the service. Both earn, but for one it is job while for the other it is service. I ask a question from all brothers and sisters in government service, whether the word \"service\" has not lost its strength, its identity? Persons in government service are not doing \"job\", they are doing \"service\". We have to revive this feeling, we have to take this feeling forward as a national character; we have to move forward in this direction.\n",
    "Brothers and Sisters, whether the citizens of the country should take steps for the welfare of the nation or not? You imagine, if these 125 crore countrymen move one step forward, then the country moves 125 crore steps forward. The meaning of democracy is not just limited to electing a government, but its meaning is that 125 crore of citizens work together joining shoulder with the government to fulfill hopes and aspirations of the country, this is the meaning of democracy.\n",
    "We have to create partnership with the people. We have to proceed under Public-Private Partnership. We have to proceed along with the participation of the people. But, please tell me why our farmers commit suicide? A farmer takes loan from the moneylender, but fails to repay his loans. He takes loan for the wedding of his daughter, but fails to repay. He will have to suffer hardships during his whole life. He chooses to commit suicide. Who will save the poor families of such farmers?\n",
    "Brothers and sisters, I have come here with a pledge to launch a scheme on this festival of Freedom. It will be called Pradhanmantri Jan-Dhan Yojana. I wish to connect the poorest citizens of the country with the facility of bank accounts through this yojana. There are millions of families who have mobile phones but no bank accounts. We have to change this scenario. Economic resources of the country should be utilized for the well-being of the poor. The change will commence from this point. This yojana will open the window. Therefore, an account holder under `Pradhanmantri Jan-Dhan Yojana` will be given a debit card. An insurance of Rs 1 lakh will be guaranteed with that debit card for each poor family, so that such families are covered with the insurance of rs 1 lakh in case of any crisis in their lives.\n",
    "My brothers and sisters, it is a country of young people. The 65 percent population of the country happens to be under the age of 35 years. Our country has the largest number of youths in the world. Have we ever thought of deriving an advantage out of it? Today, the world needs a skilled workforce. Today, India also needs a skilled workforce. At times, we look for a good driver but he is not available, we look for a plumber, but he is not available. If we need a good cook, he is not available. We have young people, they are unemployed but the kind of young people we seek for are not available. If we have to promote the development of our country then our mission has to be \"skill development\" and \"skilled India\".\n",
    "Millions and Millions of Indian youth should go for acquisition of skills and there should be a network across the country for this and not the archaic systems. They should acquire the skills which could contribute towards making India a modern country. Whenever they go to any country in the world, their skills must be appreciated and we want to go for a two pronged development.\n",
    "I also want to create a pool of young people who are able to create jobs and the ones who are not capable of creating jobs and do not have the opportunities, they must be in a position to face their counterparts in any corner of the world while keeping their heads high by virtue of their hard work and their dexterity of hands and win the hearts of people around the world through their skills. We want to go for the capacity building of such young people. My brothers and sisters, having taken a resolve to enhance the skill development at a highly rapid pace, I want to accomplish this.\n",
    "Brothers and sisters, the world has undergone a change. My dear countrymen, the world has changed. Now India can not decide its future by remaining isolated and sitting alone in a corner. The economics of the world have changed and, therefore, we will have to act accordingly. Government have taken many decisions recently, made some announcements in the budget and I call upon the world and call upon the Indians spread world over that if we have to provide more and more employment to the youth, we will have to promote manufacturing sector. If we have to develop a balance between imports and exports, we will have to strengthen manufacturing sector. If we have to put in use the education, the capability of the youth, we will have to go for manufacturing sector and for this Hindustan also will have to lend its full strength, but we also invite world powers.\n",
    "Therefore I want to appeal all the people world over, from the ramparts of Red Fort, \"Come, make in India\", \"Come, manufacture in India\". Sell in any country of the world but manufacture here. We have got skill, talent, discipline, and determination to do something. We want to give the world an favourable opportunity that come here, \"Come, Make in India\" and we will say to the world, from electrical to electronics, \"Come, Make in India\", from automobiles to agro value addition \"Come, Make in India\", paper or plastic, \"Come, Make in India\", satellite or submarine \"Come, Make in India\". Our country is powerful. Come, I am giving you an invitation.\n",
    "Brothers and sisters, I want to call upon the youth of the country, particularly the small people engaged in the industrial sector. I want to call upon the youth working in the field of technical education in the country. As I say to the world \"Come, Make in India\", I say to the youth of the country - it should be our dream that this message reaches every corner of the world, \"Made in India\". This should be our dream. Whether, to serve the country, is it necessary for the youth of the country to be hanged like Bhagat Singh? Brothers and sisters, Lal Bahadur Shastri had given the slogan \"Jai Jawan, Jai Kisan\". A soldier sacrifices himself at the border and protects Mother India. Similarly, a farmer serves Mother India by filling the godowns with grains. This is also nation's service. Filling the granary is the biggest nation`s service that a farmer provides. That is why Lal Bahadur Shashtri had given the slogan of \"Jai Jawan, Jai Kisan\".\n",
    "Brothers and Sisters, I would like to pose a question to my youngsters as to why despite them, we are forced to import even the smallest of things? My country's youth can resolve it, they should conduct research, try to find out as to what type of items are imported by India and then each one should resolve that, through may be micro or small industries only, he would manufacture atleast one such item so that we need not import the same in future. We should even advance to a situation wherein we are able to export such items. If each one of our millions of youngsters resolves to manufacture at least one such item, India can become a net exporter of goods. I, therefore, urge upon the youth, in particular our small entrepreneurs that they would never compromise, at least on two counts. First, zero defect and, second again zero effect. We should manufacture goods in such a way that they carry zero defect, that our exported goods are never returned to us. We should manufacture goods with zero effect that they should not have a negative impact on the environment. If we march ahead with the dream of zero defect in the manufacturing sector then, my brothers and sisters, I am confident that we would be able to achieve our goals.\n",
    "Brothers and sisters, the youth of India has completely transformed the identity of India in the world. Earlier, in what manner did the world know our country? Till only 25-30 years back, if not more, there were many people in the world who thought that India was a country of snake charmers, it was a country which practiced in black magic.\n",
    "The real identity of India had not reached the world, but my dear brothers and sisters, our youngsters, 20-22-23 years old youngsters have mesmerized the whole world with their skills in computers. Our young IT professionals have given a new path of making a new identity of India. If our country has this strength, can we think something about the country? Our dream is, therefore, of \"Digital India\". When I talk of \"Digital India\", I don't speak of the elite, it is for the poor people.\n",
    "You can imagine what a quality education the children in villages will get, if all the villages of India are connected with broadband connectivity and if we are able to give long distance education to the schools in every remote corner of the villages. If we create a network of telemedicine in the places where there is a shortage of doctors, we can have a clear guideline of the way in which health facilities have to be provided to the poor people living in those areas.\n",
    "The citizens of India have mobile phones in their hands, they have mobile connectivity, but can we walk in the direction of mobile governance? We have to move in a direction where every poor person is able to operate his bank account from his mobile, is able to demand various things from the government, can submit applications, can conduct all his business, while on the move, through mobile governance and if this has to be done, we have to move towards `digital India` and if we have to move towards `digital India` then we have a dream.\n",
    "Today we are importing electronic goods on a large scale. Friends, you will be surprised that we are bringing in these televisions, mobile phones, iPads and all these electronic goods. It is a necessity to import petroleum products, oil, diesel and petrol. Second to this is the import of our electronic goods. If we move ahead with the dream of `digital India` to manufacture electronic goods and become self reliant at least there, how big can be the benefit for the treasury! Therefore, e-governance is what we need to take this idea of `digital India` forward.\n",
    "E-governance is easy governance, effective governance and also economic governance. E-governance paves the way for good governance. There was a time when we used to say that the railways provided connectivity to the country. That was it. I say that today it is IT that has the potential to connect each and every citizen of the country and that is why we want to realise the mantra of unity with the help of \"digital India\".\n",
    "Brothers and sisters, if we move ahead with all this then I believe that a `digital India` will have the potential to stand with the world on equal footing. Our youth have that capability, it is an opportunity for them.\n",
    "Brothers and sisters, we want to promote tourism. Tourism provides employment to the poorest of the poor. Gram seller earns something, auto-rickshaw driver earns something, pakoda seller earns something and tea seller also earns something. When there is talk of tea seller, I feel a sense of belongingness. Tourism provides employment to the poorest of the poor. But there is a big obstacle in promoting tourism and in our national character and that is - the filthiness all around us. Whether after independence, after so many years of independence, when we stand at the threshold of one and half decade of 21st century, we still want to live in filthiness? The first work I started here after formation of government is of cleanliness. People wondered whether it is a work of a prime minister? People may feel that it is a trivial work for a Prime Minister but for me this big work. Cleanliness is very big work. Whether our country can not be clean? If 125 crore countrymen decide that they will never spread filthiness, which power in the world has ability to spread filthiness in our cities and villages? Can't we resolve this much?\n",
    "Brothers and sisters it will be the 150th birth anniversary of Mahatma Gandhi in 2019. How do we celebrate 150th birth anniversary of Mahatma Gandhi? Mahatma Gandhi, who gave us freedom, who brought so much honour to such a big country in the world, what do we give to Mahatma Gandhi? Brothers and Sisters, Mahatma Gandhi had cleanliness and sanitation closest to his heart. Whether we resolve not to leave a speck of dirt in our village, city, street, area, school, temple, hospital, and what have you, by 2019 when we celebrate 150th anniversary of Mahatma Gandhi? This happens not just with the Government, but with public participation. That's why we have to do it together.\n",
    "Brother and Sisters, we are living in 21st century. Has it ever pained us that our mothers and sisters have to defecate in open? Whether dignity of women is not our collective responsibility? The poor womenfolk of the village wait for the night; until darkness descends, they can`t go out to defecate. What bodily torture they must be feeling, how many diseases that act might engender. Can't we just make arrangements for toilets for the dignity of our mothers and sisters? Brothers and Sisters, somebody might feel that a big festival like 15th August is an occasion to talk big.\n",
    "Brothers and Sisters, talking big has its importance, making announcements too has importance, but sometimes announcements raise hopes and when the hopes are not fulfilled, the society sinks into a state of despondency. That's why are in favour of telling those things, which we can fulfill just within our sight. Brothers and sisters, you must be getting shocked to hear the Prime Minister speaking of cleanliness and the need to build toilets from the ramparts of the Red Fort.\n",
    "Brothers and sisters, I do not know how my speech is going to be criticised and how will people take it. But this is my heartfelt conviction. I come from a poor family, I have seen poverty. The poor need respect and it begins with cleanliness. I, therefore, have to launch a \"Clean India\" campaign from 2nd October this year and carry it forward in 4 years. I want to make a beginning today itself and that is - all schools in the country should have toilets with separate toilets for girls. Only then our daughters will not be compelled to leave schools midway. Our parliamentarians utilising MPLAD fund are there. I appeal to them to spend it for constructing toilets in schools for a year. The government should utilise its budget on providing toilets. I call upon the corporate sector also to give priority to the provision of toilets in schools with your expenditure under Corporate Social Responsibility. This target should be finished within one year with the help of state governments and on the next 15th August, we should be in a firm position to announce that there is no school in India without separate toilets for boys and girls.\n",
    "Brothers and sisters, if we proceed with the dreams, we are in a position to realise them. Today, I wish to tell one more specific thing. It has its own importance to discuss the matters and express the views of nation's interest. However, our Members of Parliament do not get opportunity though they are willing to do something. They can express themselves, write to the government, agitate, give memoranda. Still they do not get opportunity to do something on their own.\n",
    "Today I have come to you with a new idea. We are running so many schemes in the name of the Prime Minister in our country, there are numerous schemes in the name of various leaders. However, today I am going to announce a scheme on behalf of the Member of Parliament- Sansad Aadarsh Gram Yojana. We shall fix some parameters. I urge upon the Members of Parliament to select any one of the villages having population of three to five thousand in your constituency. The parameters will be according to the time, space and situation of that locality. It will include the conditions of health, cleanliness, atmosphere, greenery, cordiality etc.\n",
    "On the basis of those parameters, each of our MPs should make one village of his or her constituency a Model Village by 2016. Can't we do at least this? Shouldn't we do this? If we have to build a nation, we should start from the village. Make a Model Village. The reason of fixing this target for 2016 is that it is a new scheme. It takes time to formulate a scheme and then to implement it. After 2016, select two more villages for this purpose, before we go for the General Elections in 2019. And after 2019, each Member of Parliament, during his/her tenure of 5 years must establish at-least five model villages in his/her area. I also call upon the Members of Parliament from urban areas to adopt one village of their choice.\n",
    "I also urge upon the Members of Parliament from Rajya Sabha to adopt one of the villages. If we provide one model village in each district of India then the surrounding villages shall be automatically inspired to follow that model. Let us establish a model village, let us establish a village well equipped with all systems and facilities. The birth anniversary of Jai Prakash Narayan Ji happens to be on 11th October.\n",
    "On 11th October, the occasion of birth anniversary of Jai Prakash Narayan Ji, I will present a complete blueprint of Sansad Adarsh Gram Yojana (Members of Parliament Model Village Scheme) before all Members of Parliament and State Governments, and I urge upon State Governments also that as per the feasibility in their respective states, all the Members of Legislative Assembly resolve to establish a model village. You can imagine all the Members of Legislative Assembly and all the Members of Parliament in the country establishing a model village. All of a sudden, there would be a model village in each block of India which could inspire us to transform the amenities in rural areas and could give us a new direction and, therefore, we want to move ahead under this Sansad Adarsh Gram Yojana.\n",
    "My dear brothers and sisters, ever since our government has taken charge, there has been a discussion in the newspapers, on TV channels as to what would happen to Planning Commission. I believe that when Planning Commission was constituted, it was done on the basis of the circumstances and the needs of those times. In recent years, Planning Commission has contributed to the growth of the country in its own way. I respect that, I am proud of that, but the prevalent situation in the country is different, global scenario has also changed, governments are no longer the centre of economic activities, the scope of such activities has broadened. State governments have been at the center of development and I consider this a good indication. If we have to take India forward, it can happen only by taking the states forward.\n",
    "India's federal structure is more important today than in the last 60 years. To strengthen our federal structure, to make our federal structure vibrant, to take our federal structure as a heritage of development, a team of Chief Minister and Prime Minister should be there, a joint team of the Centre and the states should move forward, then to do this job, we will have to think about giving the Planning Commission a look. So, I am saying from the rampart of the Red Fort that it is a very old system and it will have to be rejuvenated, it will have to be changed a lot. Sometimes it costs more to repair the old house, but, it gives us no satisfaction. Thereafter, we have a feeling that it would be better to construct a new house altogether and therefore within a short period, we will replace the planning commission with a new institution having a new design and structure, a new body, a new soul, a new thinking, a new direction, a new faith towards forging a new direction to lead the country based on creative thinking, public-private partnership, optimum utilization of resources, utilization of youth power of the nation, to promote the aspirations of state governments seeking development, to empower the state governments and to empower the federal structure. Very shortly, we are about to move in a direction when this institute would be functioning in place of Planning Commission.\n",
    "Brothers and sisters, today, on 15th August, we also have the birth anniversary of Maharishi Aurobindo. Maharishi Aurobindo, being a rebel, moved on to achieve the status of a Yoga Guru. With regard to the destiny of India, he remarked, \"I have a faith that the divine power and spiritual heritage of India will play an important role towards the welfare of the world.\" Such sentiments were echoed by Maharishi Arvind. I strongly believe in the words of legends. I have great faith in the statements made by ascetics, sages & saints and that's why today at the ramparts of Lal Quila I am reminded of the words of Swami Viveknanda. He had said - \"I can see before my eyes Mother India awakening once again. My Mother India would be seated as the World Guru. Every Indian would render service towards welfare of humanity. This legacy of India would be useful for the welfare of the world\". These words were spoken by Swami Viveknanda ji in his own style. Friends, the words of Viveknanda ji can never be untrue. The words of Viveknanda ji, his dream of seeing India ensconced as World Guru, his vision, it is incumbent upon us to realize that dream. This capable country, blessed with natural bounty, this country of youth can do much for the world in the coming days.\n",
    "Brothers and sisters, our foreign policy is a much talked about issue. I clearly believe that India's foreign policy can be multi-dimensional. But there is an important issue to which I want to draw your attention that the way we fought for freedom, we fought together; we were not separate at that time. We were together. Which was the government with us? What were the weapons available to us? There was a Gandhi, a Sardar and lakhs of freedom fighters and such a huge empire. Didn't we win in the struggle of freedom against that empire? Did we not defeat the foreign powers? Did we not force them to leave India? We were the ones, they were our ancestors only who showed this might. If the people of India could remove such a big empire without the power of the government, without weapons and even without resources, then friends, it is the need of the hour to eradicate poverty, can we not overcome poverty? Can we not defeat poverty? My 125 crore dear countrymen, let us resolve to eradicate poverty, to win against it. Let us move with the dream of poverty eradication from India. Our neighbouring countries are also faced with the same problem. Why not get together with all the SAARC nations to plan out the fight against poverty? Let`s fight together and defeat poverty. Let us see at-least for once as to how wonderful is the feeling of being alive instead of killing and getting killed.\n",
    "This is the land where incidents from Sidharth's life happened. One bird was shot with an arrow by one brother and the other took out that arrow to save it. They went to mother- whose bird, whose swan? Whether killer's or saviour's, they asked of mother. The mother replied, saviour's. The saviour has more power than the killer and that makes him Buddha in future. And that's why I seek cooperation from neighbouring countries for fighting against poverty in concert and cooperate with them, so that together with SAARC countries we can create our importance and emerge as a power in the world. It is imperative that we work together with a dream to win a fight against poverty, shoulder to shoulder.\n",
    "I went to Bhutan, Nepal, all the dignitaries from SAARC countries took part in oath-taking ceremony; this marked a good beginning. This will definitely yield good results, it is my belief and this thinking of India, in the country and the world, that we want to do well to the countrymen and be useful for the welfare of the world, India wants such a hand to be extended. We are trying to move forward with these dreams to achieve them.\n",
    "Brothers and Sisters, today on 15th August we will resolve to do something for the country. Let's be useful for the country, we will move ahead with a resolve to take the country forward, and I assure you, Brothers and Sisters, as well as my colleagues in the Government, that if you work for 12 hours, I will do so for 13 hours. If you work for 14 hours, I will do for 15 hours. Why? Because I'm amidst you not as a Prime Minister, but as the first servant. I have formed the government not as a ruler, but as a servant.\n",
    "Brothers and sisters, I assure that this country has a destiny. It is destined to work for the welfare of the world, it was said by Vivekanand ji. India is born; this Hindustan is born in order to achieve this destiny. One hundred and twenty-five crore countrymen have to move forward wholeheartedly for the welfare of the nation.\n",
    "Once again I feel proud of the devotion, the sacrifices of the security forces of the country, para-military forces of the country, all the security forces of the country to protect Mother India. I say to the countrymen, 'Eternal vigilance is the price of liberty'.\n",
    "The army is vigilant, we should also be vigilant and the country scales new heights, we have to move forward with this resolution. Speak loudly with me with full force - Bharat Mata ki jai, Bharat Mata ki jai, Bharat Mata ki jai. Jai Hind, Jai Hind, Jai Hind. Vande Mataram, Vande Mataram, Vande Mataram!\"\"\"\n",
    "doc_complete = [doc1]\n",
    "doc_clean = [doc.split() for doc in doc_complete]\n",
    "\n",
    "import gensim \n",
    "from gensim import corpora\n",
    "\n",
    "# Creating the term dictionary of our corpus, where every unique term is assigned an index.  \n",
    "dictionary = corpora.Dictionary(doc_clean)\n",
    "\n",
    "# Converting list of documents (corpus) into Document Term Matrix using dictionary prepared above. \n",
    "doc_term_matrix = [dictionary.doc2bow(doc) for doc in doc_clean]\n",
    "\n",
    "# Creating the object for LDA model using gensim library\n",
    "Lda = gensim.models.ldamodel.LdaModel\n",
    "\n",
    "# Running and Training LDA model on the document term matrix\n",
    "ldamodel = Lda(doc_term_matrix, num_topics=3, id2word = dictionary, passes=50)\n",
    "\n",
    "# Results \n",
    "print(ldamodel.print_topics())"
   ]
  },
  {
   "cell_type": "code",
   "execution_count": 64,
   "metadata": {},
   "outputs": [],
   "source": []
  },
  {
   "cell_type": "code",
   "execution_count": 68,
   "metadata": {},
   "outputs": [
    {
     "ename": "AttributeError",
     "evalue": "'WordCloud' object has no attribute 'get_embed_code'",
     "output_type": "error",
     "traceback": [
      "\u001b[1;31m---------------------------------------------------------------------------\u001b[0m",
      "\u001b[1;31mAttributeError\u001b[0m                            Traceback (most recent call last)",
      "\u001b[1;32m<ipython-input-68-178feb79c778>\u001b[0m in \u001b[0;36m<module>\u001b[1;34m\u001b[0m\n\u001b[0;32m      6\u001b[0m \u001b[1;33m\u001b[0m\u001b[0m\n\u001b[0;32m      7\u001b[0m \u001b[1;31m#don't randomize color, show only top 50\u001b[0m\u001b[1;33m\u001b[0m\u001b[1;33m\u001b[0m\u001b[1;33m\u001b[0m\u001b[0m\n\u001b[1;32m----> 8\u001b[1;33m \u001b[0membed_code\u001b[0m\u001b[1;33m=\u001b[0m\u001b[0mwc\u001b[0m\u001b[1;33m.\u001b[0m\u001b[0mget_embed_code\u001b[0m\u001b[1;33m(\u001b[0m\u001b[0mtext\u001b[0m\u001b[1;33m=\u001b[0m\u001b[0mtexts\u001b[0m\u001b[1;33m,\u001b[0m\u001b[0mrandom_color\u001b[0m\u001b[1;33m=\u001b[0m\u001b[1;32mFalse\u001b[0m\u001b[1;33m,\u001b[0m\u001b[0mtopn\u001b[0m\u001b[1;33m=\u001b[0m\u001b[1;36m50\u001b[0m\u001b[1;33m)\u001b[0m\u001b[1;33m\u001b[0m\u001b[1;33m\u001b[0m\u001b[0m\n\u001b[0m\u001b[0;32m      9\u001b[0m \u001b[0mHTML\u001b[0m\u001b[1;33m(\u001b[0m\u001b[0membed_code\u001b[0m\u001b[1;33m)\u001b[0m\u001b[1;33m\u001b[0m\u001b[1;33m\u001b[0m\u001b[0m\n",
      "\u001b[1;31mAttributeError\u001b[0m: 'WordCloud' object has no attribute 'get_embed_code'"
     ]
    }
   ],
   "source": []
  }
 ],
 "metadata": {
  "kernelspec": {
   "display_name": "Python 3",
   "language": "python",
   "name": "python3"
  },
  "language_info": {
   "codemirror_mode": {
    "name": "ipython",
    "version": 3
   },
   "file_extension": ".py",
   "mimetype": "text/x-python",
   "name": "python",
   "nbconvert_exporter": "python",
   "pygments_lexer": "ipython3",
   "version": "3.7.3"
  }
 },
 "nbformat": 4,
 "nbformat_minor": 2
}
